{
 "cells": [
  {
   "cell_type": "code",
   "execution_count": 6,
   "metadata": {
    "colab": {
     "base_uri": "https://localhost:8080/"
    },
    "executionInfo": {
     "elapsed": 1483,
     "status": "ok",
     "timestamp": 1741592167457,
     "user": {
      "displayName": "Aleksnadra Błaszczyk",
      "userId": "07284417482966822827"
     },
     "user_tz": -60
    },
    "id": "e34ReS34RP5Y",
    "outputId": "8d0f9be6-468d-4349-f035-8b6b596b7649"
   },
   "outputs": [
    {
     "name": "stdout",
     "output_type": "stream",
     "text": [
      "--2025-03-10 21:40:28--  https://archive.ics.uci.edu/ml/machine-learning-databases/00359/NewsAggregatorDataset.zip\n",
      "Resolving archive.ics.uci.edu (archive.ics.uci.edu)... 128.195.10.252\n",
      "Connecting to archive.ics.uci.edu (archive.ics.uci.edu)|128.195.10.252|:443... connected.\n",
      "HTTP request sent, awaiting response... 200 OK\n",
      "Length: unspecified\n",
      "Saving to: ‘NewsAggregatorDataset.zip’\n",
      "\n",
      "NewsAggregatorDatas     [         <=>        ]  27.87M   707KB/s    in 22s     \n",
      "\n",
      "2025-03-10 21:40:51 (1.29 MB/s) - ‘NewsAggregatorDataset.zip’ saved [29224203]\n",
      "\n"
     ]
    }
   ],
   "source": [
    "# Download new aggregator dataset\n",
    "!wget https://archive.ics.uci.edu/ml/machine-learning-databases/00359/NewsAggregatorDataset.zip"
   ]
  },
  {
   "cell_type": "markdown",
   "metadata": {
    "id": "aVho-3b_Rjk4"
   },
   "source": [
    "# 0.0 Import Dataset\n"
   ]
  },
  {
   "cell_type": "code",
   "execution_count": 1,
   "metadata": {
    "executionInfo": {
     "elapsed": 34,
     "status": "ok",
     "timestamp": 1741633325852,
     "user": {
      "displayName": "Aleksnadra Błaszczyk",
      "userId": "07284417482966822827"
     },
     "user_tz": -60
    },
    "id": "Mn9ZItfzar1x"
   },
   "outputs": [],
   "source": [
    "import os\n",
    "from zipfile import ZipFile\n",
    "\n",
    "# from google.colab import drive\n",
    "import pandas as pd\n",
    "import matplotlib.pyplot as plt\n",
    "from pyspark import SparkConf\n",
    "from pyspark.sql import SparkSession, DataFrame, Row\n",
    "from pyspark.sql.types import  ArrayType, StructType, StructField, StringType, IntegerType, FloatType\n",
    "from pyspark.sql.functions import col, countDistinct, create_map, regexp_replace, split, lower, udf\n",
    "from pyspark.ml import Pipeline, PipelineModel, Transformer\n",
    "from pyspark.ml.feature import (\n",
    "    Tokenizer, RegexTokenizer, StopWordsRemover, CountVectorizer, IDF,\n",
    "    HashingTF, StringIndexer\n",
    ")\n",
    "from pyspark.ml.classification import NaiveBayes, NaiveBayesModel, RandomForestClassifier\n",
    "from pyspark.ml.evaluation import MulticlassClassificationEvaluator\n",
    "from pyspark.ml.tuning import CrossValidator, ParamGridBuilder\n",
    "from pyspark import keyword_only\n",
    "from nltk.stem import PorterStemmer\n"
   ]
  },
  {
   "cell_type": "code",
   "execution_count": null,
   "metadata": {
    "colab": {
     "base_uri": "https://localhost:8080/"
    },
    "executionInfo": {
     "elapsed": 20100,
     "status": "ok",
     "timestamp": 1741595440422,
     "user": {
      "displayName": "Aleksnadra Błaszczyk",
      "userId": "07284417482966822827"
     },
     "user_tz": -60
    },
    "id": "B1ZhpTblLN9B",
    "outputId": "bd657b82-54d7-4968-a167-1ab48896d977"
   },
   "outputs": [
    {
     "name": "stdout",
     "output_type": "stream",
     "text": [
      "Mounted at /content/drive\n"
     ]
    }
   ],
   "source": [
    "#Not applicable if not run on google colab\n",
    "# mount google drive disk:\n",
    "# drive.mount('/content/drive')"
   ]
  },
  {
   "cell_type": "code",
   "execution_count": 2,
   "metadata": {
    "executionInfo": {
     "elapsed": 2,
     "status": "ok",
     "timestamp": 1741592173193,
     "user": {
      "displayName": "Aleksnadra Błaszczyk",
      "userId": "07284417482966822827"
     },
     "user_tz": -60
    },
    "id": "Pa61Vu_DQ-4c"
   },
   "outputs": [],
   "source": [
    "# path to the zip with data\n",
    "src_zip_file='NewsAggregatorDataset.zip'\n",
    "\n",
    "#destination path for extracted data\n",
    "dst_path='./data/'\n",
    "if not os.path.exists(dst_path):\n",
    "    os.makedirs('./data/')\n",
    "\n",
    "data_src='data/newsCorpora.csv'"
   ]
  },
  {
   "cell_type": "code",
   "execution_count": 3,
   "metadata": {
    "executionInfo": {
     "elapsed": 3,
     "status": "ok",
     "timestamp": 1741592287968,
     "user": {
      "displayName": "Aleksnadra Błaszczyk",
      "userId": "07284417482966822827"
     },
     "user_tz": -60
    },
    "id": "dC3LkwdY_G02"
   },
   "outputs": [],
   "source": [
    "def extract_zip(src_zip_file, dst_path):\n",
    "    \"\"\"\n",
    "    Extracts all files from a ZIP archive to a specified destination directory.\n",
    "\n",
    "    Args:\n",
    "        src_zip_file (str): The path to the ZIP file to be extracted.\n",
    "        dst_path (str): The destination directory where the files should be extracted.\n",
    "\n",
    "    Returns:\n",
    "        None\n",
    "\n",
    "    Example:\n",
    "        extract_zip(\"data.zip\", \"output_folder\")\n",
    "\n",
    "    This function:\n",
    "    - Opens the given ZIP file.\n",
    "    - Prints the list of files inside the ZIP archive.\n",
    "    - Extracts all the files to the specified directory.\n",
    "    - Prints a confirmation message upon successful extraction.\n",
    "    \"\"\"\n",
    "    with ZipFile(src_zip_file, 'r') as zip:\n",
    "        zip.printdir()  # Display the contents of the ZIP file\n",
    "        zip.extractall(dst_path)  # Extract all files\n",
    "        print(f\"Files extracted to {dst_path}\")\n"
   ]
  },
  {
   "cell_type": "code",
   "execution_count": 4,
   "metadata": {
    "colab": {
     "base_uri": "https://localhost:8080/"
    },
    "executionInfo": {
     "elapsed": 854,
     "status": "ok",
     "timestamp": 1741592290217,
     "user": {
      "displayName": "Aleksnadra Błaszczyk",
      "userId": "07284417482966822827"
     },
     "user_tz": -60
    },
    "id": "nb8xG-Od_PbW",
    "outputId": "b0d3cb0c-2701-4b31-91b3-b1e4f13ffe3c"
   },
   "outputs": [
    {
     "name": "stdout",
     "output_type": "stream",
     "text": [
      "File Name                                             Modified             Size\n",
      "2pageSessions.csv                              2016-02-27 13:54:36      3049986\n",
      "__MACOSX/                                      2016-02-28 22:41:32            0\n",
      "__MACOSX/._2pageSessions.csv                   2016-02-27 13:54:36          239\n",
      "newsCorpora.csv                                2016-02-27 13:54:36    102297000\n",
      "__MACOSX/._newsCorpora.csv                     2016-02-27 13:54:36          239\n",
      "readme.txt                                     2016-02-28 22:41:08         2593\n",
      "__MACOSX/._readme.txt                          2016-02-28 22:41:08          510\n",
      "Files extracted to ./data/\n"
     ]
    }
   ],
   "source": [
    "extract_zip(src_zip_file, dst_path)"
   ]
  },
  {
   "cell_type": "code",
   "execution_count": 5,
   "metadata": {
    "executionInfo": {
     "elapsed": 13659,
     "status": "ok",
     "timestamp": 1741592592912,
     "user": {
      "displayName": "Aleksnadra Błaszczyk",
      "userId": "07284417482966822827"
     },
     "user_tz": -60
    },
    "id": "Phjjef86Q-4h"
   },
   "outputs": [
    {
     "name": "stderr",
     "output_type": "stream",
     "text": [
      "25/03/11 08:50:39 WARN Utils: Your hostname, AMDC4393 resolves to a loopback address: 127.0.1.1; using 106.120.87.145 instead (on interface eno1)\n",
      "25/03/11 08:50:39 WARN Utils: Set SPARK_LOCAL_IP if you need to bind to another address\n",
      "WARNING: An illegal reflective access operation has occurred\n",
      "WARNING: Illegal reflective access by org.apache.spark.unsafe.Platform (file:/home/a.blaszczyk2/POC_DIS_data_classification/llm-based-ner/metrics/my_venv/lib/python3.8/site-packages/pyspark/jars/spark-unsafe_2.12-3.1.1.jar) to constructor java.nio.DirectByteBuffer(long,int)\n",
      "WARNING: Please consider reporting this to the maintainers of org.apache.spark.unsafe.Platform\n",
      "WARNING: Use --illegal-access=warn to enable warnings of further illegal reflective access operations\n",
      "WARNING: All illegal access operations will be denied in a future release\n",
      "25/03/11 08:50:40 WARN NativeCodeLoader: Unable to load native-hadoop library for your platform... using builtin-java classes where applicable\n",
      "Using Spark's default log4j profile: org/apache/spark/log4j-defaults.properties\n",
      "Setting default log level to \"WARN\".\n",
      "To adjust logging level use sc.setLogLevel(newLevel). For SparkR, use setLogLevel(newLevel).\n"
     ]
    }
   ],
   "source": [
    "# Code below nitialize spark session for distributed data processing with configurations:\n",
    "# allocate spark driver memory - 8gb\n",
    "# run spark in local mode using 8 CPU cores\n",
    "# \"News Header Text Classification\" spark application name, making it easier to identify when monitoring Spark Jobs\n",
    "conf = SparkConf().set(\"spark.driver.memory\", \"8g\")\n",
    "\n",
    "spark = SparkSession.builder.master(\"local[8]\")\\\n",
    "                                    .config(conf=conf)\\\n",
    "                                    .appName(\"News Header Text Classification\").getOrCreate()\n",
    "\n"
   ]
  },
  {
   "cell_type": "code",
   "execution_count": 6,
   "metadata": {
    "colab": {
     "base_uri": "https://localhost:8080/"
    },
    "executionInfo": {
     "elapsed": 92,
     "status": "ok",
     "timestamp": 1741592793512,
     "user": {
      "displayName": "Aleksnadra Błaszczyk",
      "userId": "07284417482966822827"
     },
     "user_tz": -60
    },
    "id": "Nn5r-hp1BPbI",
    "outputId": "56544db2-9334-406a-eaf5-a0f3797e4fb2"
   },
   "outputs": [
    {
     "name": "stdout",
     "output_type": "stream",
     "text": [
      "Spark is using 8 cores.\n"
     ]
    }
   ],
   "source": [
    "# Get the number of cores Spark is using\n",
    "num_cores = spark.sparkContext.defaultParallelism\n",
    "print(f\"Spark is using {num_cores} cores.\")"
   ]
  },
  {
   "cell_type": "code",
   "execution_count": 7,
   "metadata": {
    "executionInfo": {
     "elapsed": 1762,
     "status": "ok",
     "timestamp": 1741592796351,
     "user": {
      "displayName": "Aleksnadra Błaszczyk",
      "userId": "07284417482966822827"
     },
     "user_tz": -60
    },
    "id": "S424klUrQ-4j"
   },
   "outputs": [],
   "source": [
    "# Define the schema of the imported dataset. Since we do not yet know the nature of the data,\n",
    "# all columns are set to nullable (True), except for the ID column, which serves as the key\n",
    "# of the dataset and should not contain any null values.\n",
    "schema = StructType([\n",
    "    StructField('ID', IntegerType(), nullable=False),\n",
    "    StructField('TITLE', StringType(), nullable=True),\n",
    "    StructField('URL', StringType(), nullable=True),\n",
    "    StructField('PUBLISHER', StringType(), nullable=True),\n",
    "    StructField('CATEGORY', StringType(), nullable=True),\n",
    "    StructField('STORY', StringType(), nullable=True),\n",
    "    StructField('HOSTNAME', StringType(), nullable=True),\n",
    "    StructField('TIMESTAMP', FloatType(), nullable=True),\n",
    "])\n",
    "\n",
    "df = spark.read.option(\"delimiter\", \"\\t\").csv(data_src, header=None, schema=schema)"
   ]
  },
  {
   "cell_type": "markdown",
   "metadata": {
    "id": "p3oVe4u8al4w"
   },
   "source": [
    "# 1.0 Data Exploration"
   ]
  },
  {
   "cell_type": "code",
   "execution_count": 8,
   "metadata": {
    "id": "IgEOSQhDCK6R"
   },
   "outputs": [],
   "source": [
    "# forces the dataset to be split into 8 partitions\n",
    "df = df.repartition(8)"
   ]
  },
  {
   "cell_type": "markdown",
   "metadata": {
    "id": "Yw9iunHH7r9H"
   },
   "source": [
    "## 1.1 Basic Statistics\n"
   ]
  },
  {
   "cell_type": "code",
   "execution_count": 9,
   "metadata": {
    "colab": {
     "base_uri": "https://localhost:8080/"
    },
    "executionInfo": {
     "elapsed": 6215,
     "status": "ok",
     "timestamp": 1741593697771,
     "user": {
      "displayName": "Aleksnadra Błaszczyk",
      "userId": "07284417482966822827"
     },
     "user_tz": -60
    },
    "id": "AibYZzxda_IL",
    "outputId": "c57fb846-b6e6-4baa-d9b8-b9efc6b04e3c"
   },
   "outputs": [
    {
     "name": "stdout",
     "output_type": "stream",
     "text": [
      "root\n",
      " |-- ID: integer (nullable = true)\n",
      " |-- TITLE: string (nullable = true)\n",
      " |-- URL: string (nullable = true)\n",
      " |-- PUBLISHER: string (nullable = true)\n",
      " |-- CATEGORY: string (nullable = true)\n",
      " |-- STORY: string (nullable = true)\n",
      " |-- HOSTNAME: string (nullable = true)\n",
      " |-- TIMESTAMP: float (nullable = true)\n",
      "\n",
      "The dataset contain such an number of columns: 8\n"
     ]
    },
    {
     "name": "stderr",
     "output_type": "stream",
     "text": [
      "[Stage 0:=======>                                                   (1 + 7) / 8]\r"
     ]
    },
    {
     "name": "stdout",
     "output_type": "stream",
     "text": [
      "+-----+-----------------------------------------------------------------------------------+------------------------------------------------------------------------------------------------------------------------------------------------------------------------------------------------------------------------------------------------------+----------------------------+--------+-----------------------------+--------------------------+-------------+\n",
      "|ID   |TITLE                                                                              |URL                                                                                                                                                                                                                                                   |PUBLISHER                   |CATEGORY|STORY                        |HOSTNAME                  |TIMESTAMP    |\n",
      "+-----+-----------------------------------------------------------------------------------+------------------------------------------------------------------------------------------------------------------------------------------------------------------------------------------------------------------------------------------------------+----------------------------+--------+-----------------------------+--------------------------+-------------+\n",
      "|20672|Possible Oldest Cancer Found In 3000-Year-Old Skeleton Could Reveal  ...           |http://www.ibtimes.com/possible-oldest-cancer-found-3000-year-old-skeleton-could-reveal-evolution-modern-disease-1561953                                                                                                                              |International Business Times|m       |d30-qprIsMX32OMwho4rpibk-bxSM|www.ibtimes.com           |1.3951693E12 |\n",
      "|43619|VIDEO: WHO: 1 In 8 Global Deaths Linked To Air Pollution                           |http://www.tele-management.ca/2014/03/video-who-1-in-8-global-deaths-linked-to-air-pollution/                                                                                                                                                         |Telemanagement              |m       |dK7YgCRbWfdBgOMFQYHU-9fH9LiWM|www.tele-management.ca    |1.39578114E12|\n",
      "|28831|US Appeals Court Upholds Fed Cap On Card 'Swipe Fees'                              |http://washington.cbslocal.com/2014/03/21/us-appeals-court-upholds-fed-cap-on-card-swipe-fees/                                                                                                                                                        |CBS Local                   |b       |dcCUmO9kyWRnWtMOfGWOud5BEVMdM|washington.cbslocal.com   |1.39550327E12|\n",
      "|35587|Lithium-Air Battery Technology Continuing To Move Forward — Big  ...               |http://cleantechnica.com/2014/03/18/lithium-air-battery-technology-continuing-move-forward-big-improvements-design-made-researchers/                                                                                                                  |CleanTechnica               |b       |ddTbYXscyO7VRbM0JKeVQUSmK7T-M|cleantechnica.com         |1.39562045E12|\n",
      "|20854|Malaysia Airlines plane search LIVE: Aircraft pieces found on Andhra coast?        |http://zeenews.india.com/news/world/malaysia-airlines-live-missing-plane-s-satellite-image-spotted-by-indian-techie_918827.html                                                                                                                       |Zee News                    |b       |dbXvD2QgqQdLn2MBRFymhvke0YXqM|zeenews.india.com         |1.39522972E12|\n",
      "|28032|Randolph student plans colon cancer awareness event for March 29                   |http://www.salamancapress.com/news/article_4bd3da40-ae00-11e3-930e-001a4bcf887a.html                                                                                                                                                                  |Salamanca Press             |m       |ddlARaciFtrUZiMK3lVkDuB-Ya8bM|www.salamancapress.com    |1.3953351E12 |\n",
      "|9452 |GM recall: Questions and answers about recall of 1.6M vehicles                     |http://www.ctvnews.ca/autos/gm-recall-questions-and-answers-about-recall-of-1-6m-vehicles-1.1725402                                                                                                                                                   |CTV News                    |b       |dEZNgZvY8VyPQaMEfz21GkYBcGLcM|www.ctvnews.ca            |1.3947129E12 |\n",
      "|40232|Nick Cannon Plus Whiteface Equals A Crap-ton Of Internet Controversy! Weigh  ...   |http://perezhilton.com/2014-03-24-nick-cannon-whiteface-connor-smallnut-controversial-white-people-party-music-mariah-carey-april-fools                                                                                                               |PerezHilton.com             |e       |d1GdeOBzftd8j3Mpei4uXBeObJUPM|perezhilton.com           |1.39576174E12|\n",
      "|22841|AP News in Brief at 10:58 pm EDT                                                   |http://www.theolathenews.com/2014/03/18/2393880/ap-news-in-brief-at-558-pm-edt.html                                                                                                                                                                   |The Olathenews              |e       |d00pSI3VqDUL5wMEU6vdcq2VFkgVM|www.theolathenews.com     |1.39523706E12|\n",
      "|3294 |Lena Dunham Hosts \"Saturday Night Live\": The Best and Worst Sketches               |http://www.complex.com/pop-culture/2014/03/lena-dunham-snl-recap                                                                                                                                                                                      |Complex.com                 |e       |dIAUryHj5P5xMKMj_WJbFcAQncTbM|www.complex.com           |1.39453491E12|\n",
      "|39304|Cisco introduces billion dollar Intercloud                                         |http://www.computerdealernews.com/news/cisco-introduces-billion-dollar-intercloud/32569                                                                                                                                                               |Computer Dealer News        |t       |dC0WU3ZmJUPRWZMEYRZKkhou5y72M|www.computerdealernews.com|1.39575833E12|\n",
      "|41628|Benjamin Victor sculpts an agricultural hero, Norman Borlaug, for the National  ...|http://www.washingtonpost.com/lifestyle/style/benjamin-victor-sculpts-an-agricultural-hero-norman-borlaug-for-the-national-statuary-hall/2014/03/24/30450644-b375-11e3-b899-20667de76985_story.html\\?tid=hpModule_ef3e52c4-8691-11e2-9d71-f0feafdd1394|Washington Post             |b       |dIGpi3pWxr9p4XMOsvtysq9OZgkpM|www.washingtonpost.com    |1.39577118E12|\n",
      "|16059|Why Obamacare's grace period won't matter much                                     |http://finance.fortune.cnn.com/2014/03/17/why-obamacares-grace-period-wont-matter-much/                                                                                                                                                               |Fortune \\(blog\\)            |b       |dUGqnyCCIa_a8XM3oYqtaQwB6dXJM|finance.fortune.cnn.com   |1.39515527E12|\n",
      "|54364|WATCH: Lindsay Lohan Destroys a Car!                                               |http://newsok.com/watch-lindsay-lohan-destroys-a-car/article/feed/667025                                                                                                                                                                              |NewsOK.com                  |e       |dGIQqDR8Zmdy0zMG4W9KfhN2HKGEM|newsok.com                |1.39596464E12|\n",
      "|46719|Citigroup Stock Plunges After Capital Plan Rejected by Fed                         |http://www.thestreet.com/story/12553891/1/citigroup-capital-plan-rejected-by-federal-reserve.html                                                                                                                                                     |TheStreet.com               |b       |dTQ8pLlTqc1ZDHMn7F8jF1ZGbGnVM|www.thestreet.com         |1.39587748E12|\n",
      "|15395|Bristol-Myers' Eliquis gets new FDA nod for use after ortho surgery                |http://www.fiercepharma.com/story/bristol-myers-eliquis-gets-new-fda-nod-use-after-ortho-surgery/2014-03-17                                                                                                                                           |FiercePharma                |m       |dUsV1Ddaoj_t-GMZMrUz5OtYKNDiM|www.fiercepharma.com      |1.39506627E12|\n",
      "|31446|AT&T to sell Galaxy S5, Gear devices early next month starting at $199             |http://www.techspot.com/news/56074-att-to-sell-galaxy-s5-gear-devices-early-next-month-starting-at-199.html                                                                                                                                           |TechSpot                    |t       |dA9GogTJlGEGB9MwV-RlsGpaqj7SM|www.techspot.com          |1.39551297E12|\n",
      "|53936|'Sabotage' a disturbing, bloody assault on the senses                              |http://www.dailyherald.com/article/20140327/entlife/140328799/                                                                                                                                                                                        |Chicago Daily Herald        |e       |dDkkLY-qXj3pgRMOd46FwMZ2ubatM|www.dailyherald.com       |1.39596294E12|\n",
      "|21235|Shares slip ahead of Fed, investors eye Russia-Ukraine                             |http://www.reuters.com/article/2014/03/19/us-markets-global-idUSBRE96S00E20140319                                                                                                                                                                     |Reuters                     |b       |dr_9dz3HbXAbfbMbFMCvyN2YZQsjM|www.reuters.com           |1.39523142E12|\n",
      "|6668 |Justin Bieber Selena Gomez Song: Bieber Dedicates Song to 'My Baby'                |http://www.theepochtimes.com/n3/555334-justin-bieber-selena-gomez-song-bieber-dedicates-song-to-my-baby/                                                                                                                                              |The Epoch Times             |e       |d--MozT4MsoFfIMgKu5_N58OF_f9M|www.theepochtimes.com     |1.39460424E12|\n",
      "+-----+-----------------------------------------------------------------------------------+------------------------------------------------------------------------------------------------------------------------------------------------------------------------------------------------------------------------------------------------------+----------------------------+--------+-----------------------------+--------------------------+-------------+\n",
      "only showing top 20 rows\n",
      "\n"
     ]
    },
    {
     "name": "stderr",
     "output_type": "stream",
     "text": [
      "                                                                                \r"
     ]
    }
   ],
   "source": [
    "df.printSchema()\n",
    "print(f'The dataset contain such an number of columns: {len(df.columns)}')\n",
    "df.show(truncate=False)"
   ]
  },
  {
   "cell_type": "code",
   "execution_count": 10,
   "metadata": {},
   "outputs": [
    {
     "name": "stdout",
     "output_type": "stream",
     "text": [
      "+-----+------------------------------------------------------------------------+------------------------------------------------------------------------------------------------------------------------+----------------------------+--------+-----------------------------+---------------+------------+\n",
      "|ID   |TITLE                                                                   |URL                                                                                                                     |PUBLISHER                   |CATEGORY|STORY                        |HOSTNAME       |TIMESTAMP   |\n",
      "+-----+------------------------------------------------------------------------+------------------------------------------------------------------------------------------------------------------------+----------------------------+--------+-----------------------------+---------------+------------+\n",
      "|20672|Possible Oldest Cancer Found In 3000-Year-Old Skeleton Could Reveal  ...|http://www.ibtimes.com/possible-oldest-cancer-found-3000-year-old-skeleton-could-reveal-evolution-modern-disease-1561953|International Business Times|m       |d30-qprIsMX32OMwho4rpibk-bxSM|www.ibtimes.com|1.3951693E12|\n",
      "+-----+------------------------------------------------------------------------+------------------------------------------------------------------------------------------------------------------------+----------------------------+--------+-----------------------------+---------------+------------+\n",
      "only showing top 1 row\n",
      "\n"
     ]
    }
   ],
   "source": [
    "df.show(1, truncate=False)"
   ]
  },
  {
   "cell_type": "markdown",
   "metadata": {
    "id": "YpwfRqedbs3p"
   },
   "source": [
    "Interpretation of processed dataset:\n",
    "* Dataset contains 8 columns, which include:ID, TITLE, URL, PUBLISHER, CATEGORY, STORY, HOSTNAME, and TIMESTAMP.\n",
    "* Almost all columns are nullable, which mean that the can contain missing or null values, except for ID and TITLE.\n",
    "* Data types are varied, but mostly occurs stringtype columns, one column with integer - ID, and one with floating-point number - TIMESTAMP, which suggests that the timestamp might represent time in a numeric form"
   ]
  },
  {
   "cell_type": "code",
   "execution_count": 26,
   "metadata": {},
   "outputs": [
    {
     "name": "stderr",
     "output_type": "stream",
     "text": [
      "                                                                                \r"
     ]
    },
    {
     "data": {
      "text/plain": [
       "788"
      ]
     },
     "execution_count": 26,
     "metadata": {},
     "output_type": "execute_result"
    }
   ],
   "source": [
    "category_count = df.groupBy('TITLE').agg(countDistinct('CATEGORY').alias('distinct_category_count'))\n",
    "# Filter to find titles with more than one distinct category\n",
    "titles_with_multiple_categories = category_count.filter(col('distinct_category_count') > 1)\n",
    "\n",
    "# Show the results\n",
    "titles_with_multiple_categories.count()"
   ]
  },
  {
   "cell_type": "code",
   "execution_count": null,
   "metadata": {},
   "outputs": [],
   "source": [
    "titles_with_multiple_categories.show(truncate=False)"
   ]
  },
  {
   "cell_type": "code",
   "execution_count": null,
   "metadata": {},
   "outputs": [],
   "source": [
    "df.filter(col('TITLE')=='Turmoil in Iraq is pushing up US gasoline prices').show(truncate=False)"
   ]
  },
  {
   "cell_type": "code",
   "execution_count": 40,
   "metadata": {},
   "outputs": [
    {
     "name": "stderr",
     "output_type": "stream",
     "text": [
      "                                                                                \r"
     ]
    },
    {
     "name": "stdout",
     "output_type": "stream",
     "text": [
      "Only around 0.19 % of whole unique titles has two categories \n"
     ]
    }
   ],
   "source": [
    "print(f'Only around {round(titles_with_multiple_categories.count()/ df.select(\"TITLE\").distinct().count()  * 100, 2)} % of whole unique titles has two categories ')"
   ]
  },
  {
   "cell_type": "code",
   "execution_count": 15,
   "metadata": {
    "colab": {
     "base_uri": "https://localhost:8080/"
    },
    "executionInfo": {
     "elapsed": 49,
     "status": "ok",
     "timestamp": 1741593702450,
     "user": {
      "displayName": "Aleksnadra Błaszczyk",
      "userId": "07284417482966822827"
     },
     "user_tz": -60
    },
    "id": "2plYJfnx9opg",
    "outputId": "18a290d5-8f7a-4024-85f5-46eedc9ae780"
   },
   "outputs": [
    {
     "data": {
      "text/plain": [
       "[('ID', 'int'),\n",
       " ('TITLE', 'string'),\n",
       " ('URL', 'string'),\n",
       " ('PUBLISHER', 'string'),\n",
       " ('CATEGORY', 'string'),\n",
       " ('STORY', 'string'),\n",
       " ('HOSTNAME', 'string'),\n",
       " ('TIMESTAMP', 'float')]"
      ]
     },
     "execution_count": 15,
     "metadata": {},
     "output_type": "execute_result"
    }
   ],
   "source": [
    "df.dtypes"
   ]
  },
  {
   "cell_type": "code",
   "execution_count": 16,
   "metadata": {
    "colab": {
     "base_uri": "https://localhost:8080/"
    },
    "executionInfo": {
     "elapsed": 2812,
     "status": "ok",
     "timestamp": 1741593707859,
     "user": {
      "displayName": "Aleksnadra Błaszczyk",
      "userId": "07284417482966822827"
     },
     "user_tz": -60
    },
    "id": "7O8gxgz1_tsb",
    "outputId": "0e9cdf55-dc6e-4fc0-e049-22d2e9f8167a"
   },
   "outputs": [
    {
     "name": "stdout",
     "output_type": "stream",
     "text": [
      "Total number of rows in a dataset: 422937\n"
     ]
    }
   ],
   "source": [
    "print(f'Total number of rows in a dataset: {df.count()}')"
   ]
  },
  {
   "cell_type": "markdown",
   "metadata": {
    "id": "3Vn5dCqvBBwA"
   },
   "source": [
    "In order to interprate the number of rows, we have to consider in which framework we the processing will be performed.\n",
    "\n",
    "* 422937 is small number of rows for Spark, but quite big for Pandas.\n",
    "* in this enviroment we are using 1 worker node and 4 cores, which is not ideal solution for spark, nevertheless, the computation are feasibile with the adequate memory management like adjusting partitions."
   ]
  },
  {
   "cell_type": "code",
   "execution_count": 41,
   "metadata": {
    "executionInfo": {
     "elapsed": 52793,
     "status": "ok",
     "timestamp": 1741594025772,
     "user": {
      "displayName": "Aleksnadra Błaszczyk",
      "userId": "07284417482966822827"
     },
     "user_tz": -60
    },
    "id": "z32aofze7pRL"
   },
   "outputs": [],
   "source": [
    "# collect basic statistics to a list\n",
    "def prepare_basic_statistics(dataframe):\n",
    "\n",
    "    \"\"\"\n",
    "    Function computes basic statistics for each column in the given PySpark DataFrame.\n",
    "\n",
    "    The function returns a list of tuples, where each tuple contains:\n",
    "    - Column name\n",
    "    - Column data type\n",
    "    - Number of distinct values in the column\n",
    "    - Number of null (missing) values in the column\n",
    "\n",
    "    Args:\n",
    "        df (DataFrame): A PySpark DataFrame to analyze.\n",
    "\n",
    "    Returns:\n",
    "        list of tuples: A list where each tuple represents:\n",
    "            (column_name, column_type, distinct_value_count, null_value_count)\n",
    "    \"\"\"\n",
    "    statistics_list=[]\n",
    "\n",
    "    for k in dataframe.columns:\n",
    "      distinct_values = df.select(k).distinct().count()\n",
    "      nullRows = df.where(col(k).isNull()).count()\n",
    "      column_type = df.select(k).dtypes[0][1]\n",
    "      temp=k, column_type, distinct_values, nullRows\n",
    "      statistics_list.append(temp)\n",
    "\n",
    "    return statistics_list\n",
    "\n",
    "# print(statistics_list)\n",
    "cnt_statistics = prepare_basic_statistics(df)"
   ]
  },
  {
   "cell_type": "code",
   "execution_count": 42,
   "metadata": {
    "colab": {
     "base_uri": "https://localhost:8080/"
    },
    "executionInfo": {
     "elapsed": 3295,
     "status": "ok",
     "timestamp": 1741594029072,
     "user": {
      "displayName": "Aleksnadra Błaszczyk",
      "userId": "07284417482966822827"
     },
     "user_tz": -60
    },
    "id": "BOtJJsKH-BfP",
    "outputId": "87c1f6f9-f703-487e-e6b6-8591dbcdfeda"
   },
   "outputs": [
    {
     "name": "stdout",
     "output_type": "stream",
     "text": [
      "+-----------+------------+------------+--------+\n",
      "|Column Name|Columns type|Cnt Distinct|CNT NULL|\n",
      "+-----------+------------+------------+--------+\n",
      "|         ID|         int|      422937|       0|\n",
      "|      TITLE|      string|      406940|       0|\n",
      "|        URL|      string|      422733|       9|\n",
      "|  PUBLISHER|      string|       10993|      11|\n",
      "|   CATEGORY|      string|           5|       9|\n",
      "|      STORY|      string|        7232|       9|\n",
      "|   HOSTNAME|      string|       11243|       9|\n",
      "|  TIMESTAMP|       float|        7668|       9|\n",
      "+-----------+------------+------------+--------+\n",
      "\n"
     ]
    }
   ],
   "source": [
    "# define schema for basic statistics\n",
    "schema = StructType([\n",
    "    StructField(\"Column Name\", StringType()),\n",
    "    StructField(\"Columns type\", StringType()),\n",
    "    StructField(\"Cnt Distinct\", IntegerType()),\n",
    "    StructField(\"CNT NULL\", IntegerType()),\n",
    "])\n",
    "\n",
    "# Create DataFrame with basic statistics\n",
    "basic_statistics = spark.createDataFrame(cnt_statistics, schema)\n",
    "basic_statistics.show()"
   ]
  },
  {
   "cell_type": "markdown",
   "metadata": {
    "id": "QWJglOfN-wfk"
   },
   "source": [
    "## 1.2 Handle Missing Values"
   ]
  },
  {
   "cell_type": "code",
   "execution_count": 16,
   "metadata": {
    "colab": {
     "base_uri": "https://localhost:8080/",
     "height": 407
    },
    "executionInfo": {
     "elapsed": 4178,
     "status": "ok",
     "timestamp": 1741594148007,
     "user": {
      "displayName": "Aleksnadra Błaszczyk",
      "userId": "07284417482966822827"
     },
     "user_tz": -60
    },
    "id": "BeZ3DdNf6oYM",
    "outputId": "08288186-430e-4bd5-da26-477e533b0427"
   },
   "outputs": [
    {
     "data": {
      "image/png": "[encoded data removed]",
      "text/plain": [
       "<Figure size 600x400 with 1 Axes>"
      ]
     },
     "metadata": {},
     "output_type": "display_data"
    }
   ],
   "source": [
    "# prepare data for visualization\n",
    "columns_names = [row['Column Name'] for row in basic_statistics.collect()]\n",
    "cnt_nulls = [row['CNT NULL'] for row in basic_statistics.collect()]\n",
    "\n",
    "# creating the bar plot\n",
    "plt.figure(figsize=(6,4))\n",
    "plt.barh(columns_names, cnt_nulls , color ='dodgerblue')\n",
    "\n",
    "plt.title(\"Number of nulls across columns\")  # Add title\n",
    "plt.xlabel(\"Cnt null\")  # Add x-axis label\n",
    "plt.ylabel(\"Columns Names\")\n",
    "\n",
    "# Rotate the x-axis labels\n",
    "plt.xticks(cnt_nulls, rotation=45)\n",
    "\n",
    "#Adjust layout to make sure everything fits\n",
    "plt.tight_layout()\n",
    "\n",
    "# Add grid lines for the y-axis\n",
    "plt.grid(axis='y', linestyle='--', alpha=0.4)\n",
    "plt.show()"
   ]
  },
  {
   "cell_type": "markdown",
   "metadata": {
    "id": "w46zo_wUF1G_"
   },
   "source": [
    "Only **TITLE** and **CATEGORY** columns will be used for Futher exploration.\n",
    "The main task is to perform news aggregator classification task, whereas, CATEGORY is the variable with predicted labels (Y), and TITLE is variable used to prepare prediction (X).\n",
    "\n",
    "Explanation, why **TITLE** is only one variable to perform prediction:\n",
    "* ***concise information***: TITLE, which can be interpret as headlines are designed to capture the essence of the news article in a short and concise format. They usually summarize the most important aspects of the news, including the main topic, event, and key details.\n",
    "By focusing on the headline, the model doesn't have to process a large volume of text. It can focus on a small, but highly informative part of the content, which is enough for classification tasks.\n",
    "* ***Headline often reflects category***: In many cases, the category or label of the news (e.g., politics, sports, technology) is clear from the words used in the headline. So for multi-class classification tasks provide it enough information to accurately predict the class.\n"
   ]
  },
  {
   "cell_type": "code",
   "execution_count": 43,
   "metadata": {
    "executionInfo": {
     "elapsed": 63,
     "status": "ok",
     "timestamp": 1741594255800,
     "user": {
      "displayName": "Aleksnadra Błaszczyk",
      "userId": "07284417482966822827"
     },
     "user_tz": -60
    },
    "id": "uIXra1wDQ-4k"
   },
   "outputs": [],
   "source": [
    "df_categories = df.select('TITLE', 'CATEGORY')"
   ]
  },
  {
   "cell_type": "code",
   "execution_count": 44,
   "metadata": {
    "executionInfo": {
     "elapsed": 2707,
     "status": "ok",
     "timestamp": 1741594259169,
     "user": {
      "displayName": "Aleksnadra Błaszczyk",
      "userId": "07284417482966822827"
     },
     "user_tz": -60
    },
    "id": "BSzZcUkMOLbQ"
   },
   "outputs": [],
   "source": [
    "category_null_percentage = round(df_categories.where(col(\"CATEGORY\").isNull()).count() / df_categories.count() * 100, 4)"
   ]
  },
  {
   "cell_type": "code",
   "execution_count": 45,
   "metadata": {
    "colab": {
     "base_uri": "https://localhost:8080/"
    },
    "executionInfo": {
     "elapsed": 6,
     "status": "ok",
     "timestamp": 1741594259177,
     "user": {
      "displayName": "Aleksnadra Błaszczyk",
      "userId": "07284417482966822827"
     },
     "user_tz": -60
    },
    "id": "1FJvmMFwQ-4l",
    "outputId": "a53d7564-453b-416a-8ccf-81e637ac9b3b"
   },
   "outputs": [
    {
     "name": "stdout",
     "output_type": "stream",
     "text": [
      "The percentage of null for variable CATEGORY is insignificant: 0.0021%\n"
     ]
    }
   ],
   "source": [
    "# As, TITLE does not have null, but CATEGORY has, but only around 9 rows\n",
    "# The percentage of null for CATEGORY is:\n",
    "print(f\"The percentage of null for variable CATEGORY is insignificant: {category_null_percentage }%\")\n",
    "# So, the missing values could be deleted as, it does not have impact on the overall dataset\n",
    "df_categories = df_categories.dropna(how='any')"
   ]
  },
  {
   "cell_type": "code",
   "execution_count": 46,
   "metadata": {
    "colab": {
     "base_uri": "https://localhost:8080/"
    },
    "executionInfo": {
     "elapsed": 1261,
     "status": "ok",
     "timestamp": 1741594262407,
     "user": {
      "displayName": "Aleksnadra Błaszczyk",
      "userId": "07284417482966822827"
     },
     "user_tz": -60
    },
    "id": "wdq5LhymQ-4l",
    "outputId": "4725bc0e-362f-4cb2-d6a7-f91ff862ecbc"
   },
   "outputs": [
    {
     "data": {
      "text/plain": [
       "0"
      ]
     },
     "execution_count": 46,
     "metadata": {},
     "output_type": "execute_result"
    }
   ],
   "source": [
    "df_categories.where(col(\"CATEGORY\").isNull()).count()"
   ]
  },
  {
   "cell_type": "code",
   "execution_count": 47,
   "metadata": {
    "colab": {
     "base_uri": "https://localhost:8080/"
    },
    "executionInfo": {
     "elapsed": 3208,
     "status": "ok",
     "timestamp": 1741594265617,
     "user": {
      "displayName": "Aleksnadra Błaszczyk",
      "userId": "07284417482966822827"
     },
     "user_tz": -60
    },
    "id": "o8LadFj4Q-4m",
    "outputId": "d1a00463-2fe6-40ac-ce2f-0e55aed3a49d"
   },
   "outputs": [
    {
     "name": "stdout",
     "output_type": "stream",
     "text": [
      "+--------+------+\n",
      "|category| count|\n",
      "+--------+------+\n",
      "|       m| 45639|\n",
      "|       e|152821|\n",
      "|       b|115967|\n",
      "|       t|108501|\n",
      "+--------+------+\n",
      "\n"
     ]
    }
   ],
   "source": [
    "value_counts_categories = df_categories.groupBy(\"category\").count()\n",
    "value_counts_categories.show()"
   ]
  },
  {
   "cell_type": "code",
   "execution_count": 48,
   "metadata": {
    "executionInfo": {
     "elapsed": 1706,
     "status": "ok",
     "timestamp": 1741594267325,
     "user": {
      "displayName": "Aleksnadra Błaszczyk",
      "userId": "07284417482966822827"
     },
     "user_tz": -60
    },
    "id": "u0cEMA8-gLrW"
   },
   "outputs": [],
   "source": [
    "categories = ['health','entertainment','business','science']\n",
    "cnt_categories = [row['count'] for row in value_counts_categories.collect()]"
   ]
  },
  {
   "cell_type": "code",
   "execution_count": 49,
   "metadata": {
    "colab": {
     "base_uri": "https://localhost:8080/",
     "height": 507
    },
    "executionInfo": {
     "elapsed": 347,
     "status": "ok",
     "timestamp": 1741594267695,
     "user": {
      "displayName": "Aleksnadra Błaszczyk",
      "userId": "07284417482966822827"
     },
     "user_tz": -60
    },
    "id": "z4DdUcoQhQcf",
    "outputId": "e4f518f5-3b6d-49a9-e02a-0d2693f166bc"
   },
   "outputs": [
    {
     "data": {
      "image/png": "[encoded data removed]",
      "text/plain": [
       "<Figure size 700x500 with 1 Axes>"
      ]
     },
     "metadata": {},
     "output_type": "display_data"
    }
   ],
   "source": [
    "# creating the bar plot\n",
    "plt.figure(figsize=(7,5))\n",
    "plt.bar(categories, cnt_categories, color ='dodgerblue')\n",
    "\n",
    "plt.title(\"Number of titles accross categories\")  # Add title\n",
    "plt.xlabel(\"Categories\")  # Add x-axis label\n",
    "plt.ylabel(\"CNT\")\n",
    "\n",
    "# Rotate the x-axis labels\n",
    "plt.xticks(categories , rotation=45)\n",
    "\n",
    "#Adjust layout to make sure everything fits\n",
    "plt.tight_layout()\n",
    "\n",
    "# Add grid lines for the y-axis\n",
    "plt.grid(axis='y', linestyle='--', alpha=0.4)\n",
    "plt.show()"
   ]
  },
  {
   "cell_type": "markdown",
   "metadata": {
    "id": "TtH00DgqhnC5"
   },
   "source": [
    "The most important conclusion from this brief analysis is that, we have **Imbalanced Class**, model can have biased towrd the larger class, and have poor performance on the smaller class.\n",
    "\n",
    "Approaches to handle with such an imbalanced classes, which will be applied in this analysis:\n",
    "1. Choosing **evaluation metrics**, suitable for an imbalanced class: Precision, Recall, F1-Score, especially macro-average F1\n",
    "2. Applying **ensemble methods** like Random Forest or Gradient Boosting, which can help improve performance on imbalanced datasets because they are more robust and can handle variance in data better.\n",
    "XGBoost / LightGBM: Implement advanced techniques for dealing with imbalanced data, including the ability to assign class weights directly during training.\n"
   ]
  },
  {
   "cell_type": "markdown",
   "metadata": {
    "id": "9Sbk0XtGn98x"
   },
   "source": [
    "# 2.0 Data Preprocessing"
   ]
  },
  {
   "cell_type": "code",
   "execution_count": 24,
   "metadata": {
    "colab": {
     "base_uri": "https://localhost:8080/"
    },
    "executionInfo": {
     "elapsed": 166,
     "status": "ok",
     "timestamp": 1741594268541,
     "user": {
      "displayName": "Aleksnadra Błaszczyk",
      "userId": "07284417482966822827"
     },
     "user_tz": -60
    },
    "id": "sfCN_i0tQ-4m",
    "outputId": "70d947e1-e827-44c3-adef-35267a076022"
   },
   "outputs": [
    {
     "name": "stdout",
     "output_type": "stream",
     "text": [
      "+---------------------------------------------------------------------------+--------+\n",
      "|TITLE                                                                      |CATEGORY|\n",
      "+---------------------------------------------------------------------------+--------+\n",
      "|Fed official says weak data caused by weather, should not slow taper       |b       |\n",
      "|Fed's Charles Plosser sees high bar for change in pace of tapering         |b       |\n",
      "|US open: Stocks fall after Fed official hints at accelerated tapering      |b       |\n",
      "|Fed risks falling 'behind the curve', Charles Plosser says                 |b       |\n",
      "|Fed's Plosser: Nasty Weather Has Curbed Job Growth                         |b       |\n",
      "|Plosser: Fed May Have to Accelerate Tapering Pace                          |b       |\n",
      "|Fed's Plosser: Taper pace may be too slow                                  |b       |\n",
      "|Fed's Plosser expects US unemployment to fall to 6.2% by the end of 2014   |b       |\n",
      "|US jobs growth last month hit by weather:Fed President Charles Plosser     |b       |\n",
      "|ECB unlikely to end sterilisation of SMP purchases - traders               |b       |\n",
      "|ECB unlikely to end sterilization of SMP purchases: traders                |b       |\n",
      "|EU's half-baked bank union could work                                      |b       |\n",
      "|Europe reaches crunch point on banking union                               |b       |\n",
      "|ECB FOCUS-Stronger euro drowns out ECB's message to keep rates low for  ...|b       |\n",
      "|EU aims for deal on tackling failing banks                                 |b       |\n",
      "|Forex - Pound drops to one-month lows against euro                         |b       |\n",
      "|Noyer Says Strong Euro Creates Unwarranted Economic Pressure               |b       |\n",
      "|EU Week Ahead March 10-14: Bank Resolution, Transparency, Ukraine          |b       |\n",
      "|ECB member Noyer is 'very open to all kinds of tools'                      |b       |\n",
      "|Euro Anxieties Wane as Bunds Top Treasuries, Spain Debt Rallies            |b       |\n",
      "+---------------------------------------------------------------------------+--------+\n",
      "only showing top 20 rows\n",
      "\n"
     ]
    }
   ],
   "source": [
    "df_categories.show(truncate=False)\n"
   ]
  },
  {
   "cell_type": "markdown",
   "metadata": {
    "id": "e-OSUakjoJ4S"
   },
   "source": [
    "## 2.1 Create pipeline for Data transformation"
   ]
  },
  {
   "cell_type": "markdown",
   "metadata": {
    "id": "w6HV9hixuUhb"
   },
   "source": [
    "### 2.1.1 Prepare customize transformers"
   ]
  },
  {
   "cell_type": "code",
   "execution_count": null,
   "metadata": {
    "id": "TP98aSqythEd"
   },
   "outputs": [],
   "source": [
    "# Preparation of stemming transformer\n",
    "# Initialize the stemmer\n",
    "stemmer = PorterStemmer()\n",
    "\n",
    "# Function to stem words in an ArrayType column\n",
    "def stem_words(list_words):\n",
    "    return [stemmer.stem(word) for word in list_words]\n",
    "\n",
    "# UDF for stemming\n",
    "stem_udf = udf(stem_words, ArrayType(StringType()))\n",
    "\n",
    "\n",
    "class StemmingTransformer(Transformer):\n",
    "    \"\"\"\n",
    "    A custom PySpark Transformer that applies stemming to a specified column of tokenized words.\n",
    "\n",
    "    Attributes:\n",
    "        input_col (str): The name of the input column to apply the stemming to.\n",
    "        output_col (str): The name of the output column where the stemmed data will be stored.\n",
    "\n",
    "    Methods:\n",
    "        _transform(df): Applies stemming to the input column and creates a new output column\n",
    "                         with the stemmed words.\n",
    "    \"\"\"\n",
    "\n",
    "    def __init__(self, input_col, output_col):\n",
    "        super(StemmingTransformer, self).__init__()\n",
    "        self.input_col = input_col\n",
    "        self.output_col = output_col\n",
    "\n",
    "    def _transform(self, df):\n",
    "        \"\"\"\n",
    "        Apply stemming using a UDF to transform the input column into the output column with stemmed words.\n",
    "        \"\"\"\n",
    "        df_stemmed = df.withColumn(self.output_col, stem_udf(col(self.input_col)))\n",
    "        return df_stemmed\n"
   ]
  },
  {
   "cell_type": "markdown",
   "metadata": {
    "id": "TkHr6T5fwhO0"
   },
   "source": [
    "### 2.1.2 Prepare the processing pipeline for TITLE variable"
   ]
  },
  {
   "cell_type": "code",
   "execution_count": 41,
   "metadata": {
    "executionInfo": {
     "elapsed": 4,
     "status": "ok",
     "timestamp": 1741595890099,
     "user": {
      "displayName": "Aleksnadra Błaszczyk",
      "userId": "07284417482966822827"
     },
     "user_tz": -60
    },
    "id": "-qvIxBz-M6um"
   },
   "outputs": [],
   "source": [
    "\n",
    "def preprocess_title_column(df, input_col=\"TITLE\", output_col=\"title_only_str\"):\n",
    "    \"\"\"\n",
    "    Cleans the specified text column by:\n",
    "    - Converting text to lowercase\n",
    "    - Removing non-alphanumeric characters (excluding spaces)\n",
    "    - Removing digits\n",
    "\n",
    "    Args:\n",
    "        df (DataFrame): The input Spark DataFrame.\n",
    "        input_col (str): The name of the column to be cleaned (default: \"TITLE\").\n",
    "        output_col (str): The name of the new column storing the cleaned text (default: \"title_only_str\").\n",
    "\n",
    "    Returns:\n",
    "        DataFrame: A new DataFrame with the additional cleaned column.\n",
    "    \"\"\"\n",
    "    return df.withColumn(output_col, lower(regexp_replace(col(input_col), r'[^\\w\\s]|[0-9]+', '')))\n",
    "\n"
   ]
  },
  {
   "cell_type": "code",
   "execution_count": null,
   "metadata": {
    "id": "JMFDUSLmKXaK"
   },
   "outputs": [],
   "source": [
    "# 1. Clean the Title text from any character that is not a word character, space and lower case all the letter\n",
    "df_categories = df_categories.withColumn(\n",
    "    'title_only_str', lower(regexp_replace(col('TITLE'), r'[^\\w\\s]|[0-9]+', ''))  # Replace non-alphanumeric characters and digits\n",
    ")\n",
    "# run function preprocess_title_column\n",
    "df_categories = preprocess_title_column(df_categories)\n",
    "\n",
    "# 2. Tokenie the sentences\n",
    "# In tasks like text classification, focusing on longer, more significant tokens\n",
    "# can improve model accuracy by removing unnecessary noise because of that minTokenLength has been set\n",
    "tokenizer = RegexTokenizer(minTokenLength=2, inputCol='title_only_str', outputCol='title_words', pattern=\"\\\\W\")\n",
    "\n",
    "# 3.  remove stop words\n",
    "stop_words_remover = StopWordsRemover(inputCol='title_words', outputCol='title_clean_words')\n",
    "\n",
    "# 4. Apply stemming Transformer - customized one - stemming cannot be applied - explanation in presentation:\n",
    "# stemming_transformer = StemmingTransformer(input_col='title_clean_words', output_col='stemmed_words')\n",
    "# cleaned_df = df_transformed2.withColumn(\"stemmed_words\", stem_udf(col('title_clean_words')))\n",
    "\n",
    "\n",
    "# 5. Initialize CountVectorizer\n",
    "count_vec = CountVectorizer(inputCol='title_clean_words' ,\n",
    "                            outputCol='words_vectorized',\n",
    "                            maxDF=0.9,\n",
    "                            minDF=2,\n",
    "                            minTF=1\n",
    "                            )\n",
    "\n",
    "# 6. Initilaize Inverse Document Frequency\n",
    "idf = IDF(inputCol='words_vectorized', outputCol = 'words_tfidf')\n",
    "\n",
    "\n",
    "# Create a reusabble pipeline with all above defined transformation\n",
    "pipeline = Pipeline(stages=[tokenizer, stop_words_remover, count_vec, idf])\n",
    "pipeline_model = pipeline.fit(df_categories)\n",
    "\n",
    "ddf_categories = pipeline_model.transform(df_categories)\n"
   ]
  },
  {
   "cell_type": "code",
   "execution_count": null,
   "metadata": {
    "colab": {
     "base_uri": "https://localhost:8080/"
    },
    "executionInfo": {
     "elapsed": 2355,
     "status": "ok",
     "timestamp": 1741555243965,
     "user": {
      "displayName": "Aleksnadra Błaszczyk",
      "userId": "07284417482966822827"
     },
     "user_tz": -60
    },
    "id": "CZcqLQBcx_n2",
    "outputId": "c3f468da-f55e-4804-84a1-ee51c4e94252"
   },
   "outputs": [
    {
     "name": "stdout",
     "output_type": "stream",
     "text": [
      "+--------------------------------------------------------------------------------------+--------+-------------------------------------------------------------------------------+----------------------------------------------------------------------------------------------+-----------------------------------------------------------------------------------+---------------------------------------------------------------------------------------------+----------------------------------------------------------------------------------------------------------------------------------------------------------------------------------------------------------------------------------------+\n",
      "|TITLE                                                                                 |CATEGORY|title_only_str                                                                 |title_words                                                                                   |title_clean_words                                                                  |words_vectorized                                                                             |words_tfidf                                                                                                                                                                                                                             |\n",
      "+--------------------------------------------------------------------------------------+--------+-------------------------------------------------------------------------------+----------------------------------------------------------------------------------------------+-----------------------------------------------------------------------------------+---------------------------------------------------------------------------------------------+----------------------------------------------------------------------------------------------------------------------------------------------------------------------------------------------------------------------------------------+\n",
      "|Mind-bending photo reveals Martian sand dune field covered in seasonal frost          |t       |mindbending photo reveals martian sand dune field covered in seasonal frost    |[mindbending, photo, reveals, martian, sand, dune, field, covered, in, seasonal, frost]       |[mindbending, photo, reveals, martian, sand, dune, field, covered, seasonal, frost]|(38174,[128,188,1712,3618,5993,8782,12296,22110,22590],[1.0,1.0,1.0,1.0,1.0,1.0,1.0,1.0,1.0])|(38174,[128,188,1712,3618,5993,8782,12296,22110,22590],[5.222590372956094,5.43635237842523,7.085662682106707,7.944324301144226,8.66450015409209,9.291397949110836,9.910437157517059,11.009049446185168,11.163200126012427])             |\n",
      "|Huge MBS Settlement Disclosed by BofA                                                 |b       |huge mbs settlement disclosed by bofa                                          |[huge, mbs, settlement, disclosed, by, bofa]                                                  |[huge, mbs, settlement, disclosed, bofa]                                           |(38174,[601,794,3136,14835,16510],[1.0,1.0,1.0,1.0,1.0])                                     |(38174,[601,794,3136,14835,16510],[6.1991906732562265,6.408174184479958,7.773176044948396,10.246909394138273,10.470052945452482])                                                                                                       |\n",
      "|IGN Readers Prefer Batman vs. Superman to Captain America 3                           |e       |ign readers prefer batman vs superman to captain america                       |[ign, readers, prefer, batman, vs, superman, to, captain, america]                            |[ign, readers, prefer, batman, vs, superman, captain, america]                     |(38174,[88,97,326,616,641,5425,6228,23996],[1.0,1.0,1.0,1.0,1.0,1.0,1.0,1.0])                |(38174,[88,97,326,616,641,5425,6228,23996],[5.130513664362863,5.082885615373608,5.781001275483688,6.239576208905801,6.344263550522723,8.500612298986974,8.706464353191123,11.163200126012427])                                          |\n",
      "|TV Tonight: 'Dancing with the Stars,' 'The Voice,' 'Bones,' 'Paycheck to Paycheck  ...|e       |tv tonight dancing with the stars the voice bones paycheck to paycheck         |[tv, tonight, dancing, with, the, stars, the, voice, bones, paycheck, to, paycheck]           |[tv, tonight, dancing, stars, voice, bones, paycheck, paycheck]                    |(38174,[44,95,134,269,399,7728,13116],[1.0,1.0,1.0,1.0,1.0,1.0,2.0])                         |(38174,[44,95,134,269,399,7728,13116],[4.684946532966696,5.080220470068672,5.2687972917475765,5.670138682671879,5.889346231642764,9.063139297129855,20.129175674688636])                                                                |\n",
      "|Muppets, music and mayhem score big laughs in 'Most Wanted'                           |e       |muppets music and mayhem score big laughs in most wanted                       |[muppets, music, and, mayhem, score, big, laughs, in, most, wanted]                           |[muppets, music, mayhem, score, big, laughs, wanted]                               |(38174,[47,53,1081,1511,3655,3973,13767],[1.0,1.0,1.0,1.0,1.0,1.0,1.0])                      |(38174,[47,53,1081,1511,3655,3973,13767],[4.736442017750891,4.833776353161654,6.645041317013965,6.983697755450019,7.964527008461745,8.07976227203933,10.121746251184266])                                                               |\n",
      "|Kellogg's Recipe of Ethics, Social Responsibility Feeds Profits                       |b       |kelloggs recipe of ethics social responsibility feeds profits                  |[kelloggs, recipe, of, ethics, social, responsibility, feeds, profits]                        |[kelloggs, recipe, ethics, social, responsibility, feeds, profits]                 |(38174,[558,699,4904,8696,9518,9684,13114],[1.0,1.0,1.0,1.0,1.0,1.0,1.0])                    |(38174,[558,699,4904,8696,9518,9684,13114],[6.152564831916171,6.31377742549989,8.359839745105893,9.266080141126546,9.42859907062432,9.458452033774002,10.010520616074041])                                                              |\n",
      "|WRAPUP 1-Search area for Malaysian airliner widened after French satellite  ...       |b       |wrapup search area for malaysian airliner widened after french satellite       |[wrapup, search, area, for, malaysian, airliner, widened, after, french, satellite]           |[wrapup, search, area, malaysian, airliner, widened, french, satellite]            |(38174,[234,519,674,853,932,4201,4549,18201],[1.0,1.0,1.0,1.0,1.0,1.0,1.0,1.0])              |(38174,[234,519,674,853,932,4201,4549,18201],[5.58788253535947,6.0922016821890805,6.290550574890074,6.46271976022001,6.525240117201345,8.150938550507226,8.254479229448066,10.652374502246436])                                         |\n",
      "|Citi (C) Issues Commentary Following Fed CCAR Result                                  |b       |citi c issues commentary following fed ccar result                             |[citi, issues, commentary, following, fed, ccar, result]                                      |[citi, issues, commentary, following, fed, ccar, result]                           |(38174,[135,417,469,2347,2860,4863,15834],[1.0,1.0,1.0,1.0,1.0,1.0,1.0])                     |(38174,[135,417,469,2347,2860,4863,15834],[5.254211800728683,5.910054478111111,6.015705649198974,7.421570106512962,7.656642228692445,8.349789409252391,10.390010237778945])                                                             |\n",
      "|What the creators of Flappy Bird and Bitcoin are teaching us about online media       |t       |what the creators of flappy bird and bitcoin are teaching us about online media|[what, the, creators, of, flappy, bird, and, bitcoin, are, teaching, us, about, online, media]|[creators, flappy, bird, bitcoin, teaching, us, online, media]                     |(38174,[1,228,532,776,1284,2670,4324,14323],[1.0,1.0,1.0,1.0,1.0,1.0,1.0,1.0])               |(38174,[1,228,532,776,1284,2670,4324,14323],[3.1091541230454385,5.568488746410588,6.1027170261886035,6.405308853006672,6.812922189653126,7.6126253432756705,8.184274970774817,10.1823708730007])                                        |\n",
      "|Lady Gaga bares all for new music video GUY                                           |e       |lady gaga bares all for new music video guy                                    |[lady, gaga, bares, all, for, new, music, video, guy]                                         |[lady, gaga, bares, new, music, video, guy]                                        |(38174,[0,3,53,658,1177,1373,5802],[1.0,1.0,1.0,1.0,1.0,1.0,1.0])                            |(38174,[0,3,53,658,1177,1373,5802],[2.874581875907606,3.8069202494616787,4.833776353161654,6.277876133993346,6.74035149681829,6.861389825195347,8.611154173386797])                                                                     |\n",
      "|Bank of America to spend $9.3B in FHFA settlement                                     |b       |bank of america to spend b in fhfa settlement                                  |[bank, of, america, to, spend, in, fhfa, settlement]                                          |[bank, america, spend, fhfa, settlement]                                           |(38174,[76,97,601,2765,5959],[1.0,1.0,1.0,1.0,1.0])                                          |(38174,[76,97,601,2765,5959],[4.975963224386367,5.082885615373608,6.1991906732562265,7.631949616102074,8.650894502036312])                                                                                                              |\n",
      "|Michigan tourist returns stolen Hulk Hogan shoe                                       |b       |michigan tourist returns stolen hulk hogan shoe                                |[michigan, tourist, returns, stolen, hulk, hogan, shoe]                                       |[michigan, tourist, returns, stolen, hulk, hogan, shoe]                            |(38174,[622,1446,1664,9502,10190,14761,25466],[1.0,1.0,1.0,1.0,1.0,1.0,1.0])                 |(38174,[622,1446,1664,9502,10190,14761,25466],[6.227527870389626,6.90995428120447,7.057805727603741,9.489223692440756,9.553762213578327,10.246909394138273,11.345521682806382])                                                         |\n",
      "|Samsung Galaxy Tab 4 7.0 leaks in two press renders                                   |t       |samsung galaxy tab   leaks in two press renders                                |[samsung, galaxy, tab, leaks, in, two, press, renders]                                        |[samsung, galaxy, tab, leaks, two, press, renders]                                 |(38174,[8,9,91,559,1241,1694,11081],[1.0,1.0,1.0,1.0,1.0,1.0,1.0])                           |(38174,[8,9,91,559,1241,1694,11081],[4.0497866100571,4.227181381757431,5.067000258640537,6.2026892190987395,6.766695472157892,7.071637206752203,9.696863057219])                                                                        |\n",
      "|Ukraine casts shadow over Wall Street                                                 |b       |ukraine casts shadow over wall street                                          |[ukraine, casts, shadow, over, wall, street]                                                  |[ukraine, casts, shadow, wall, street]                                             |(38174,[145,242,249,3017,5230],[1.0,1.0,1.0,1.0,1.0])                                        |(38174,[145,242,249,3017,5230],[5.274322167679546,5.607015772091795,5.629810637284907,7.7238509783858955,8.444100088723632])                                                                                                            |\n",
      "|Charlie Brown & Snoopy Go CGI For 'Peanuts' Movie; Watch The First Teaser             |e       |charlie brown  snoopy go cgi for peanuts movie watch the first teaser          |[charlie, brown, snoopy, go, cgi, for, peanuts, movie, watch, the, first, teaser]             |[charlie, brown, snoopy, go, cgi, peanuts, movie, watch, first, teaser]            |(38174,[6,13,30,177,405,876,1521,3748,5401,6936],[1.0,1.0,1.0,1.0,1.0,1.0,1.0,1.0,1.0,1.0])  |(38174,[6,13,30,177,405,876,1521,3748,5401,6936],[3.9765512806115884,4.250623156751076,4.547804509033182,5.393838005710244,5.9048370749714225,6.479526878536392,6.9634950481325,7.9991325376392215,8.500612298986974,8.911908327405932])|\n",
      "|BMW - Bayerische Motoren Werke AG: Statement and presentation by Dr  ...              |b       |bmw  bayerische motoren werke ag statement and presentation by dr              |[bmw, bayerische, motoren, werke, ag, statement, and, presentation, by, dr]                   |[bmw, bayerische, motoren, werke, ag, statement, presentation, dr]                 |(38174,[772,1298,1579,3138,9463,32775,34414,36210],[1.0,1.0,1.0,1.0,1.0,1.0,1.0,1.0])        |(38174,[772,1298,1579,3138,9463,32775,34414,36210],[6.391104068708354,6.812922189653126,7.009538986633907,7.78447560020233,9.399611533751068,11.856347306572372,11.856347306572372,11.856347306572372])                                 |\n",
      "|Quiznos files for bankruptcy protection                                               |b       |quiznos files for bankruptcy protection                                        |[quiznos, files, for, bankruptcy, protection]                                                 |[quiznos, files, bankruptcy, protection]                                           |(38174,[470,1342,2114,6757],[1.0,1.0,1.0,1.0])                                               |(38174,[470,1342,2114,6757],[6.017645514016801,6.845712012476117,7.3130525243023685,8.844085731067171])                                                                                                                                 |\n",
      "|Australia: Search resumes for Malaysian Airlines flight MH370                         |b       |australia search resumes for malaysian airlines flight mh                      |[australia, search, resumes, for, malaysian, airlines, flight, mh]                            |[australia, search, resumes, malaysian, airlines, flight, mh]                      |(38174,[234,271,310,313,924,932,2677],[1.0,1.0,1.0,1.0,1.0,1.0,1.0])                         |(38174,[234,271,310,313,924,932,2677],[5.58788253535947,5.6749513423562945,5.768815290718156,5.76579185682016,6.514013054607561,6.525240117201345,7.579681187556317])                                                                   |\n",
      "|Gwyneth Paltrow & Chris Martin: Inside Their $150 Million Dollar Battle               |e       |gwyneth paltrow  chris martin inside their  million dollar battle              |[gwyneth, paltrow, chris, martin, inside, their, million, dollar, battle]                     |[gwyneth, paltrow, chris, martin, inside, million, dollar, battle]                 |(38174,[21,83,130,293,348,545,630,1259],[1.0,1.0,1.0,1.0,1.0,1.0,1.0,1.0])                   |(38174,[21,83,130,293,348,545,630,1259],[4.399315217449992,5.024393741006517,5.295788227574424,5.710018048903475,5.820865874047616,6.145920289197503,6.250545240276375,6.77909232513472])                                               |\n",
      "|Happy 25th Birthday World Wide Web - Let's Not Destroy It                             |t       |happy th birthday world wide web  lets not destroy it                          |[happy, th, birthday, world, wide, web, lets, not, destroy, it]                               |[happy, th, birthday, world, wide, web, lets, destroy]                             |(38174,[50,143,464,597,740,819,3665,5597],[1.0,1.0,1.0,1.0,1.0,1.0,1.0,1.0])                 |(38174,[50,143,464,597,740,819,3665,5597],[4.7698881177081995,5.276633238733596,6.023487789641029,6.2026892190987395,6.355089096027645,6.42992993739702,7.964527008461745,8.548240347976229])                                           |\n",
      "+--------------------------------------------------------------------------------------+--------+-------------------------------------------------------------------------------+----------------------------------------------------------------------------------------------+-----------------------------------------------------------------------------------+---------------------------------------------------------------------------------------------+----------------------------------------------------------------------------------------------------------------------------------------------------------------------------------------------------------------------------------------+\n",
      "only showing top 20 rows\n",
      "\n"
     ]
    }
   ],
   "source": [
    "ddf_categories.show(truncate=False)"
   ]
  },
  {
   "cell_type": "code",
   "execution_count": 33,
   "metadata": {
    "executionInfo": {
     "elapsed": 2309,
     "status": "ok",
     "timestamp": 1741595658690,
     "user": {
      "displayName": "Aleksnadra Błaszczyk",
      "userId": "07284417482966822827"
     },
     "user_tz": -60
    },
    "id": "0tTAHyvwRKpk"
   },
   "outputs": [],
   "source": [
    "# Save the model to a specified path\n",
    "model_save_path_pipeline = \"/content/drive/MyDrive/Colab Notebooks/pipeline_model2\"\n",
    "pipeline_model.write().overwrite().save(model_save_path_pipeline)"
   ]
  },
  {
   "cell_type": "markdown",
   "metadata": {
    "id": "Vcy_Rd8FNdVq"
   },
   "source": [
    "#### 2.1.2.1 Test Loaded model"
   ]
  },
  {
   "cell_type": "code",
   "execution_count": 43,
   "metadata": {
    "colab": {
     "base_uri": "https://localhost:8080/"
    },
    "executionInfo": {
     "elapsed": 1297,
     "status": "ok",
     "timestamp": 1741595904717,
     "user": {
      "displayName": "Aleksnadra Błaszczyk",
      "userId": "07284417482966822827"
     },
     "user_tz": -60
    },
    "id": "dxfkhqWodeeW",
    "outputId": "348c35b4-dd24-4a1b-f5ee-49a810686849"
   },
   "outputs": [
    {
     "name": "stdout",
     "output_type": "stream",
     "text": [
      "+---------------------------------------------------------------------------+--------+----------------------------------------------------------------------+---------------------------------------------------------------------------------+-----------------------------------------------------------------------------+--------------------------------------------------------------------------------------------+----------------------------------------------------------------------------------------------------------------------------------------------------------------------------------------------------------------------------+\n",
      "|TITLE                                                                      |CATEGORY|title_only_str                                                        |title_words                                                                      |title_clean_words                                                            |words_vectorized                                                                            |words_tfidf                                                                                                                                                                                                                 |\n",
      "+---------------------------------------------------------------------------+--------+----------------------------------------------------------------------+---------------------------------------------------------------------------------+-----------------------------------------------------------------------------+--------------------------------------------------------------------------------------------+----------------------------------------------------------------------------------------------------------------------------------------------------------------------------------------------------------------------------+\n",
      "|Fed official says weak data caused by weather, should not slow taper       |b       |fed official says weak data caused by weather should not slow taper   |[fed, official, says, weak, data, caused, by, weather, should, not, slow, taper] |[fed, official, says, weak, data, caused, weather, slow, taper]              |(38174,[4,32,135,363,916,954,1206,1832,7370],[1.0,1.0,1.0,1.0,1.0,1.0,1.0,1.0,1.0])         |(38174,[4,32,135,363,916,954,1206,1832,7370],[3.845987717652588,4.599579699986848,5.254211800728683,5.832899713611339,6.507653732699269,6.541500638073125,6.7483836685155545,7.155866940779956,8.98466768168836])           |\n",
      "|Fed's Charles Plosser sees high bar for change in pace of tapering         |b       |feds charles plosser sees high bar for change in pace of tapering     |[feds, charles, plosser, sees, high, bar, for, change, in, pace, of, tapering]   |[feds, charles, plosser, sees, high, bar, change, pace, tapering]            |(38174,[77,80,448,683,2173,2544,5977,8258,10018],[1.0,1.0,1.0,1.0,1.0,1.0,1.0,1.0,1.0])     |(38174,[77,80,448,683,2173,2544,5977,8258,10018],[4.961339600412738,4.992892286486815,5.969317777601273,6.29823307106209,7.341831488852412,7.516880286317287,8.650894502036312,9.17076996132222,9.520972390755336])         |\n",
      "|US open: Stocks fall after Fed official hints at accelerated tapering      |b       |us open stocks fall after fed official hints at accelerated tapering  |[us, open, stocks, fall, after, fed, official, hints, at, accelerated, tapering] |[us, open, stocks, fall, fed, official, hints, accelerated, tapering]        |(38174,[1,27,135,141,241,363,1375,10018,11843],[1.0,1.0,1.0,1.0,1.0,1.0,1.0,1.0,1.0])       |(38174,[1,27,135,141,241,363,1375,10018,11843],[3.1091541230454385,4.516809611164697,5.254211800728683,5.268338260295862,5.608304432063943,5.832899713611339,6.861389825195347,9.520972390755336,9.819465379311332])        |\n",
      "|Fed risks falling 'behind the curve', Charles Plosser says                 |b       |fed risks falling behind the curve charles plosser says               |[fed, risks, falling, behind, the, curve, charles, plosser, says]                |[fed, risks, falling, behind, curve, charles, plosser, says]                 |(38174,[4,135,579,1199,1908,5977,8258,12778],[1.0,1.0,1.0,1.0,1.0,1.0,1.0,1.0])             |(38174,[4,135,579,1199,1908,5977,8258,12778],[3.845987717652588,5.254211800728683,6.1773130016053655,6.744359518215829,7.2087564047003285,8.650894502036312,9.17076996132222,9.959227321686491])                            |\n",
      "|Fed's Plosser: Nasty Weather Has Curbed Job Growth                         |b       |feds plosser nasty weather has curbed job growth                      |[feds, plosser, nasty, weather, has, curbed, job, growth]                        |[feds, plosser, nasty, weather, curbed, job, growth]                         |(38174,[102,506,683,954,6748,8258,18739],[1.0,1.0,1.0,1.0,1.0,1.0,1.0])                     |(38174,[102,506,683,954,6748,8258,18739],[5.109935177998998,6.063333698188228,6.29823307106209,6.541500638073125,8.844085731067171,9.17076996132222,10.757735017904263])                                                    |\n",
      "|Plosser: Fed May Have to Accelerate Tapering Pace                          |b       |plosser fed may have to accelerate tapering pace                      |[plosser, fed, may, have, to, accelerate, tapering, pace]                        |[plosser, fed, may, accelerate, tapering, pace]                              |(38174,[7,135,2173,6013,8258,10018],[1.0,1.0,1.0,1.0,1.0,1.0])                              |(38174,[7,135,2173,6013,8258,10018],[4.001966095920007,5.254211800728683,7.341831488852412,8.66450015409209,9.17076996132222,9.520972390755336])                                                                            |\n",
      "|Fed's Plosser: Taper pace may be too slow                                  |b       |feds plosser taper pace may be too slow                               |[feds, plosser, taper, pace, may, be, too, slow]                                 |[feds, plosser, taper, pace, may, slow]                                      |(38174,[7,683,1206,2173,7370,8258],[1.0,1.0,1.0,1.0,1.0,1.0])                               |(38174,[7,683,1206,2173,7370,8258],[4.001966095920007,6.29823307106209,6.7483836685155545,7.341831488852412,8.98466768168836,9.17076996132222])                                                                             |\n",
      "|Fed's Plosser expects US unemployment to fall to 6.2% by the end of 2014   |b       |feds plosser expects us unemployment to fall to  by the end of        |[feds, plosser, expects, us, unemployment, to, fall, to, by, the, end, of]       |[feds, plosser, expects, us, unemployment, fall, end]                        |(38174,[1,141,157,473,683,2367,8258],[1.0,1.0,1.0,1.0,1.0,1.0,1.0])                         |(38174,[1,141,157,473,683,2367,8258],[3.1091541230454385,5.268338260295862,5.29956895041433,6.022511703667973,6.29823307106209,7.429506656108698,9.17076996132222])                                                         |\n",
      "|US jobs growth last month hit by weather:Fed President Charles Plosser     |b       |us jobs growth last month hit by weatherfed president charles plosser |[us, jobs, growth, last, month, hit, by, weatherfed, president, charles, plosser]|[us, jobs, growth, last, month, hit, weatherfed, president, charles, plosser]|(38174,[1,102,161,165,189,204,615,5977,8258],[1.0,1.0,1.0,1.0,1.0,1.0,1.0,1.0,1.0])         |(38174,[1,102,161,165,189,204,615,5977,8258],[3.1091541230454385,5.109935177998998,5.315317307382469,5.32304308216923,5.442888349405015,5.4996611095571915,6.226330982155781,8.650894502036312,9.17076996132222])           |\n",
      "|ECB unlikely to end sterilisation of SMP purchases - traders               |b       |ecb unlikely to end sterilisation of smp purchases  traders           |[ecb, unlikely, to, end, sterilisation, of, smp, purchases, traders]             |[ecb, unlikely, end, sterilisation, smp, purchases, traders]                 |(38174,[157,224,2114,2193,2766,23129],[1.0,1.0,1.0,1.0,1.0,1.0])                            |(38174,[157,224,2114,2193,2766,23129],[5.29956895041433,5.553728330827467,7.3130525243023685,7.352840774360781,7.617421515539164,11.163200126012427])                                                                       |\n",
      "|ECB unlikely to end sterilization of SMP purchases: traders                |b       |ecb unlikely to end sterilization of smp purchases traders            |[ecb, unlikely, to, end, sterilization, of, smp, purchases, traders]             |[ecb, unlikely, end, sterilization, smp, purchases, traders]                 |(38174,[157,224,2114,2193,2766,23129],[1.0,1.0,1.0,1.0,1.0,1.0])                            |(38174,[157,224,2114,2193,2766,23129],[5.29956895041433,5.553728330827467,7.3130525243023685,7.352840774360781,7.617421515539164,11.163200126012427])                                                                       |\n",
      "|EU's half-baked bank union could work                                      |b       |eus halfbaked bank union could work                                   |[eus, halfbaked, bank, union, could, work]                                       |[eus, halfbaked, bank, union, work]                                          |(38174,[76,503,2409,8469,30485],[1.0,1.0,1.0,1.0,1.0])                                      |(38174,[76,503,2409,8469,30485],[4.975963224386367,6.061303240637846,7.453701384695755,9.217289976957113,11.56866523412059])                                                                                                |\n",
      "|Europe reaches crunch point on banking union                               |b       |europe reaches crunch point on banking union                          |[europe, reaches, crunch, point, on, banking, union]                             |[europe, reaches, crunch, point, banking, union]                             |(38174,[458,879,1748,2409,2511,10856],[1.0,1.0,1.0,1.0,1.0,1.0])                            |(38174,[458,879,1748,2409,2511,10856],[6.010872387010955,6.482613300739581,7.102757115466008,7.453701384695755,7.5082222235741725,9.659122729236152])                                                                       |\n",
      "|ECB FOCUS-Stronger euro drowns out ECB's message to keep rates low for  ...|b       |ecb focusstronger euro drowns out ecbs message to keep rates low for  |[ecb, focusstronger, euro, drowns, out, ecbs, message, to, keep, rates, low, for]|[ecb, focusstronger, euro, drowns, ecbs, message, keep, rates, low]          |(38174,[116,180,216,224,562,1562,2470,15405],[1.0,1.0,1.0,1.0,1.0,1.0,1.0,1.0])             |(38174,[116,180,216,224,562,1562,2470,15405],[5.194918914360103,5.411156727738972,5.537379192825938,5.553728330827467,6.1536765607688615,6.9965349022107,7.478496043308971,10.315902265625223])                             |\n",
      "|EU aims for deal on tackling failing banks                                 |b       |eu aims for deal on tackling failing banks                            |[eu, aims, for, deal, on, tackling, failing, banks]                              |[eu, aims, deal, tackling, failing, banks]                                   |(38174,[24,525,663,1339,5653,10678],[1.0,1.0,1.0,1.0,1.0,1.0])                              |(38174,[24,525,663,1339,5653,10678],[4.456949223241018,6.097445532695092,6.281661627472828,6.841277415408251,8.560510440568043,9.622755085065277])                                                                          |\n",
      "|Forex - Pound drops to one-month lows against euro                         |b       |forex  pound drops to onemonth lows against euro                      |[forex, pound, drops, to, onemonth, lows, against, euro]                         |[forex, pound, drops, onemonth, lows, euro]                                  |(38174,[180,262,1117,1392,2459,7408],[1.0,1.0,1.0,1.0,1.0,1.0])                             |(38174,[180,262,1117,1392,2459,7408],[5.411156727738972,5.666031900719225,6.710792694576746,6.872740684864036,7.47432067189849,9.003715876659054])                                                                          |\n",
      "|Noyer Says Strong Euro Creates Unwarranted Economic Pressure               |b       |noyer says strong euro creates unwarranted economic pressure          |[noyer, says, strong, euro, creates, unwarranted, economic, pressure]            |[noyer, says, strong, euro, creates, unwarranted, economic, pressure]        |(38174,[4,180,407,575,1189,2085,8666,20408],[1.0,1.0,1.0,1.0,1.0,1.0,1.0,1.0])              |(38174,[4,180,407,575,1189,2085,8666,20408],[3.845987717652588,5.411156727738972,5.9013738680468055,6.172767539233691,6.74035149681829,7.295477379480861,9.266080141126546,10.875518053560645])                             |\n",
      "|EU Week Ahead March 10-14: Bank Resolution, Transparency, Ukraine          |b       |eu week ahead march  bank resolution transparency ukraine             |[eu, week, ahead, march, bank, resolution, transparency, ukraine]                |[eu, week, ahead, march, bank, resolution, transparency, ukraine]            |(38174,[55,76,154,185,249,663,4041,4837],[1.0,1.0,1.0,1.0,1.0,1.0,1.0,1.0])                 |(38174,[55,76,154,185,249,663,4041,4837],[4.846637305067242,4.975963224386367,5.290143809954746,5.421800787784919,5.629810637284907,6.281661627472828,8.102929331320865,8.339839078399223])                                 |\n",
      "|ECB member Noyer is 'very open to all kinds of tools'                      |b       |ecb member noyer is very open to all kinds of tools                   |[ecb, member, noyer, is, very, open, to, all, kinds, of, tools]                  |[ecb, member, noyer, open, kinds, tools]                                     |(38174,[224,241,3518,3616,8666,13408],[1.0,1.0,1.0,1.0,1.0,1.0])                            |(38174,[224,241,3518,3616,8666,13408],[5.553728330827467,5.608304432063943,7.911534478321236,7.944324301144226,9.266080141126546,10.064587837344318])                                                                       |\n",
      "|Euro Anxieties Wane as Bunds Top Treasuries, Spain Debt Rallies            |b       |euro anxieties wane as bunds top treasuries spain debt rallies        |[euro, anxieties, wane, as, bunds, top, treasuries, spain, debt, rallies]        |[euro, anxieties, wane, bunds, top, treasuries, spain, debt, rallies]        |(38174,[46,180,1070,3806,5565,5611,19766,19829,25093],[1.0,1.0,1.0,1.0,1.0,1.0,1.0,1.0,1.0])|(38174,[46,180,1070,3806,5565,5611,19766,19829,25093],[4.71853906797509,5.411156727738972,6.635991481494047,8.013317172631178,8.548240347976229,8.560510440568043,10.875518053560645,10.875518053560645,11.345521682806382])|\n",
      "+---------------------------------------------------------------------------+--------+----------------------------------------------------------------------+---------------------------------------------------------------------------------+-----------------------------------------------------------------------------+--------------------------------------------------------------------------------------------+----------------------------------------------------------------------------------------------------------------------------------------------------------------------------------------------------------------------------+\n",
      "only showing top 20 rows\n",
      "\n"
     ]
    }
   ],
   "source": [
    "\n",
    "model_save_path_pipeline = \"/content/drive/MyDrive/Colab Notebooks/pipeline_model2\"\n",
    "# Load the pipeline model back\n",
    "loaded_pipeline_model = PipelineModel.load(model_save_path_pipeline)\n",
    "\n",
    "# perform initial preprocessing: select columns, and replace unnecessary chars and digits\n",
    "test_dataset = df.select('TITLE', 'CATEGORY')\n",
    "test_dataset= preprocess_title_column(test_dataset)\n",
    "# Apply the loaded model to new data\n",
    "loaded_transformed_df = loaded_pipeline_model.transform(test_dataset)\n",
    "loaded_transformed_df.show(truncate=False)"
   ]
  },
  {
   "cell_type": "markdown",
   "metadata": {
    "id": "cl5JWWZJNqOh"
   },
   "source": [
    "## 2.2 Prepare explanatory variable - Category"
   ]
  },
  {
   "cell_type": "markdown",
   "metadata": {
    "id": "5oaysFnRynnG"
   },
   "source": [
    "Process categorical values to numerical"
   ]
  },
  {
   "cell_type": "code",
   "execution_count": 86,
   "metadata": {
    "executionInfo": {
     "elapsed": 2195,
     "status": "ok",
     "timestamp": 1741599698844,
     "user": {
      "displayName": "Aleksnadra Błaszczyk",
      "userId": "07284417482966822827"
     },
     "user_tz": -60
    },
    "id": "uTMS9o6Pbfh6"
   },
   "outputs": [],
   "source": [
    "# Convert labels into numeric values using StringIndexer\n",
    "indexer = StringIndexer(inputCol=\"CATEGORY\", outputCol=\"indexed_label2\")\n",
    "indexed_model = indexer.fit(ddf_categories)\n",
    "ddf_categories = indexed_model.transform(ddf_categories)"
   ]
  },
  {
   "cell_type": "code",
   "execution_count": 50,
   "metadata": {
    "colab": {
     "base_uri": "https://localhost:8080/"
    },
    "executionInfo": {
     "elapsed": 373,
     "status": "ok",
     "timestamp": 1741596450412,
     "user": {
      "displayName": "Aleksnadra Błaszczyk",
      "userId": "07284417482966822827"
     },
     "user_tz": -60
    },
    "id": "ftYzyrQhpIET",
    "outputId": "a0d64c65-8773-49da-9c6a-121c07a717e8"
   },
   "outputs": [
    {
     "name": "stdout",
     "output_type": "stream",
     "text": [
      "+--------------------------------------------------------------------+--------+-------------------------------------------------------------------+--------------------------------------------------------------------------------+---------------------------------------------------------------+-----------------------------------------------------------------------------------+-----------------------------------------------------------------------------------------------------------------------------------------------------------------------------------------------------------------+-------------+\n",
      "|TITLE                                                               |CATEGORY|title_only_str                                                     |title_words                                                                     |title_clean_words                                              |words_vectorized                                                                   |words_tfidf                                                                                                                                                                                                      |indexed_label|\n",
      "+--------------------------------------------------------------------+--------+-------------------------------------------------------------------+--------------------------------------------------------------------------------+---------------------------------------------------------------+-----------------------------------------------------------------------------------+-----------------------------------------------------------------------------------------------------------------------------------------------------------------------------------------------------------------+-------------+\n",
      "|Fed official says weak data caused by weather, should not slow taper|b       |fed official says weak data caused by weather should not slow taper|[fed, official, says, weak, data, caused, by, weather, should, not, slow, taper]|[fed, official, says, weak, data, caused, weather, slow, taper]|(38174,[4,32,135,363,916,954,1206,1832,7370],[1.0,1.0,1.0,1.0,1.0,1.0,1.0,1.0,1.0])|(38174,[4,32,135,363,916,954,1206,1832,7370],[3.845987717652588,4.599579699986848,5.254211800728683,5.832899713611339,6.507653732699269,6.541500638073125,6.7483836685155545,7.155866940779956,8.98466768168836])|1.0          |\n",
      "+--------------------------------------------------------------------+--------+-------------------------------------------------------------------+--------------------------------------------------------------------------------+---------------------------------------------------------------+-----------------------------------------------------------------------------------+-----------------------------------------------------------------------------------------------------------------------------------------------------------------------------------------------------------------+-------------+\n",
      "only showing top 1 row\n",
      "\n"
     ]
    }
   ],
   "source": [
    "ddf_categories.show(2, truncate=False)"
   ]
  },
  {
   "cell_type": "markdown",
   "metadata": {
    "id": "DnpGsQpMU88a"
   },
   "source": [
    "Prepare mapping dictionary from numbers into categories"
   ]
  },
  {
   "cell_type": "code",
   "execution_count": null,
   "metadata": {
    "id": "4nMfJwWnU57L"
   },
   "outputs": [],
   "source": [
    "lista = indexed_model.labels"
   ]
  },
  {
   "cell_type": "code",
   "execution_count": 108,
   "metadata": {
    "colab": {
     "base_uri": "https://localhost:8080/"
    },
    "executionInfo": {
     "elapsed": 13,
     "status": "ok",
     "timestamp": 1741600706625,
     "user": {
      "displayName": "Aleksnadra Błaszczyk",
      "userId": "07284417482966822827"
     },
     "user_tz": -60
    },
    "id": "BQO-UhtZfaCm",
    "outputId": "350567c3-e1c1-4fab-adca-fa866b89b8e8"
   },
   "outputs": [
    {
     "name": "stdout",
     "output_type": "stream",
     "text": [
      "Label to index mapping:\n",
      "0 -> e\n",
      "1 -> b\n",
      "2 -> t\n",
      "3 -> m\n"
     ]
    }
   ],
   "source": [
    "print(\"Label to index mapping:\")\n",
    "for idx, label in enumerate(lista):\n",
    "    print(f\"{idx} -> {label}\")"
   ]
  },
  {
   "cell_type": "markdown",
   "metadata": {
    "id": "x5FuoN7BZds1"
   },
   "source": [
    "Save Indexer Model"
   ]
  },
  {
   "cell_type": "code",
   "execution_count": 91,
   "metadata": {
    "executionInfo": {
     "elapsed": 1172,
     "status": "ok",
     "timestamp": 1741599773436,
     "user": {
      "displayName": "Aleksnadra Błaszczyk",
      "userId": "07284417482966822827"
     },
     "user_tz": -60
    },
    "id": "QW2zrTbkZclF"
   },
   "outputs": [],
   "source": [
    "indexed_model.save(\"/content/drive/MyDrive/Colab Notebooks/string_indexer_model_final\")"
   ]
  },
  {
   "cell_type": "markdown",
   "metadata": {
    "id": "Oxc5Eo54PF9S"
   },
   "source": [
    "# 3.0 Model Training & Selection"
   ]
  },
  {
   "cell_type": "code",
   "execution_count": 55,
   "metadata": {
    "executionInfo": {
     "elapsed": 47,
     "status": "ok",
     "timestamp": 1741596887361,
     "user": {
      "displayName": "Aleksnadra Błaszczyk",
      "userId": "07284417482966822827"
     },
     "user_tz": -60
    },
    "id": "aJ2u2lN28lW4"
   },
   "outputs": [],
   "source": [
    "selected_features = ddf_categories.select('words_tfidf', 'indexed_label')"
   ]
  },
  {
   "cell_type": "code",
   "execution_count": 142,
   "metadata": {
    "executionInfo": {
     "elapsed": 31,
     "status": "ok",
     "timestamp": 1741602173334,
     "user": {
      "displayName": "Aleksnadra Błaszczyk",
      "userId": "07284417482966822827"
     },
     "user_tz": -60
    },
    "id": "SDJZrHT384ZH"
   },
   "outputs": [],
   "source": [
    "#Create our Training & Test datasets\n",
    "(trainingData, testData) = selected_features.randomSplit([0.8, 0.2],seed = 11)"
   ]
  },
  {
   "cell_type": "markdown",
   "metadata": {
    "id": "VI1IusQBPW_K"
   },
   "source": [
    "## 3.1 Naive Bayes"
   ]
  },
  {
   "cell_type": "code",
   "execution_count": 63,
   "metadata": {
    "colab": {
     "base_uri": "https://localhost:8080/"
    },
    "executionInfo": {
     "elapsed": 261986,
     "status": "ok",
     "timestamp": 1741597498018,
     "user": {
      "displayName": "Aleksnadra Błaszczyk",
      "userId": "07284417482966822827"
     },
     "user_tz": -60
    },
    "id": "4HBDAlWWQVze",
    "outputId": "a91b7cee-37bb-41e3-c293-901dd45a5aa7"
   },
   "outputs": [
    {
     "name": "stdout",
     "output_type": "stream",
     "text": [
      "Precision: 0.9292756781429855\n",
      "Recall: 0.9287983841438205\n",
      "F1-Score: 0.9289019603652084\n"
     ]
    }
   ],
   "source": [
    "# define naive bayes model\n",
    "nb = NaiveBayes(modelType=\"multinomial\", featuresCol='words_tfidf', labelCol='indexed_label')\n",
    "\n",
    "# define Hyperparameter Grid\n",
    "paramGrid = ParamGridBuilder().addGrid(nb.smoothing, [0.1, 1.0, 2.0]).build() # Try different smoothing values\n",
    "\n",
    "# Define Evaluator (F1-Score)\n",
    "evaluator = MulticlassClassificationEvaluator(labelCol=\"indexed_label\", predictionCol=\"prediction\" )\n",
    "                                              # metricName=\"f1\")\n",
    "\n",
    "# Cross Validation Setup\n",
    "cv = CrossValidator(\n",
    "    estimator=nb,\n",
    "    estimatorParamMaps=paramGrid,\n",
    "    evaluator=evaluator,\n",
    "    numFolds=5  # 5-Fold Cross Validation\n",
    ")\n",
    "\n",
    "cv_model = cv.fit(trainingData)\n",
    "\n",
    "# Get Best Model from Cross-Validation\n",
    "best_model = cv_model.bestModel\n",
    "\n",
    "# Make Predictions on Test Data\n",
    "test_predictions = best_model.transform(testData)\n",
    "\n",
    "# Evaluate the Best Model on Test Data using Multiple Metrics\n",
    "# Precision\n",
    "precision = evaluator.setMetricName(\"weightedPrecision\").evaluate(test_predictions)\n",
    "print(f\"Precision: {precision}\")\n",
    "\n",
    "# Recall\n",
    "recall = evaluator.setMetricName(\"weightedRecall\").evaluate(test_predictions)\n",
    "print(f\"Recall: {recall}\")\n",
    "\n",
    "# F1-Score\n",
    "f1_score = evaluator.setMetricName(\"f1\").evaluate(test_predictions)\n",
    "print(f\"F1-Score: {f1_score}\")"
   ]
  },
  {
   "cell_type": "code",
   "execution_count": 184,
   "metadata": {
    "executionInfo": {
     "elapsed": 7,
     "status": "ok",
     "timestamp": 1741630711637,
     "user": {
      "displayName": "Aleksnadra Błaszczyk",
      "userId": "07284417482966822827"
     },
     "user_tz": -60
    },
    "id": "KUJWwZ7pguqx"
   },
   "outputs": [],
   "source": [
    "evaluation_metrics = []\n",
    "evaluation_metrics.append([\"Naive Bayes\", round(precision, 4), round(recall, 4), round(f1_score, 4)] )\n"
   ]
  },
  {
   "cell_type": "code",
   "execution_count": 185,
   "metadata": {
    "colab": {
     "base_uri": "https://localhost:8080/"
    },
    "executionInfo": {
     "elapsed": 1285,
     "status": "ok",
     "timestamp": 1741630716462,
     "user": {
      "displayName": "Aleksnadra Błaszczyk",
      "userId": "07284417482966822827"
     },
     "user_tz": -60
    },
    "id": "31UJ85w6g73I",
    "outputId": "698ddbbe-1d7b-4de0-90da-ccdf40884551"
   },
   "outputs": [
    {
     "name": "stdout",
     "output_type": "stream",
     "text": [
      "+----------------------+---------+------+--------+\n",
      "|Machine_Learning_Model|Precision|Recall|F1_Score|\n",
      "+----------------------+---------+------+--------+\n",
      "|           Naive Bayes|   0.9293|0.9288|  0.3959|\n",
      "+----------------------+---------+------+--------+\n",
      "\n"
     ]
    }
   ],
   "source": [
    "# define schema for basic metrics\n",
    "schema = StructType([\n",
    "    StructField(\"Machine_Learning_Model\", StringType(), nullable=False),\n",
    "    StructField(\"Precision\",  FloatType(), nullable=True),\n",
    "    StructField(\"Recall\", FloatType(), nullable=True),\n",
    "    StructField(\"F1_Score\", FloatType(), nullable=True),\n",
    "])\n",
    "\n",
    "\n",
    "# Create DataFrame with basic statistics\n",
    "evaluation_metrics_df = spark.createDataFrame(evaluation_metrics, schema)\n",
    "evaluation_metrics_df.show()"
   ]
  },
  {
   "cell_type": "code",
   "execution_count": 65,
   "metadata": {
    "colab": {
     "base_uri": "https://localhost:8080/"
    },
    "executionInfo": {
     "elapsed": 8,
     "status": "ok",
     "timestamp": 1741598336934,
     "user": {
      "displayName": "Aleksnadra Błaszczyk",
      "userId": "07284417482966822827"
     },
     "user_tz": -60
    },
    "id": "GMqYeFfQWW_R",
    "outputId": "7850b567-932e-4abc-a55d-ff2a03ee5cad"
   },
   "outputs": [
    {
     "name": "stdout",
     "output_type": "stream",
     "text": [
      "NaiveBayesModel: uid=NaiveBayes_544a69f734a3, modelType=multinomial, numClasses=4, numFeatures=38174\n"
     ]
    }
   ],
   "source": [
    "print(best_model)"
   ]
  },
  {
   "cell_type": "markdown",
   "metadata": {
    "id": "N93NpznsN_aw"
   },
   "source": [
    "Save model to disk"
   ]
  },
  {
   "cell_type": "code",
   "execution_count": null,
   "metadata": {
    "id": "35hWy09cXe4h"
   },
   "outputs": [],
   "source": [
    "import shutil\n",
    "import os\n",
    "# Check if the directory exists, and remove it if needed\n",
    "if os.path.exists(\"/content/drive/MyDrive/Colab Notebooks/naive_bayesian_final\"):\n",
    "    shutil.rmtree(\"/content/drive/MyDrive/Colab Notebooks/naive_bayesian_final\")"
   ]
  },
  {
   "cell_type": "code",
   "execution_count": 67,
   "metadata": {
    "executionInfo": {
     "elapsed": 1092,
     "status": "ok",
     "timestamp": 1741598676157,
     "user": {
      "displayName": "Aleksnadra Błaszczyk",
      "userId": "07284417482966822827"
     },
     "user_tz": -60
    },
    "id": "f6wYY-qCXjK6"
   },
   "outputs": [],
   "source": [
    "# Save the trained Naive Bayes model\n",
    "model_save_path_nb = \"/content/drive/MyDrive/Colab Notebooks/naive_bayesian_final\"\n",
    "best_model.write().overwrite().save(model_save_path_nb)"
   ]
  },
  {
   "cell_type": "markdown",
   "metadata": {
    "id": "5OIs_UE18KRM"
   },
   "source": [
    "## 3.2 Random Forest"
   ]
  },
  {
   "cell_type": "code",
   "execution_count": 146,
   "metadata": {
    "colab": {
     "base_uri": "https://localhost:8080/"
    },
    "executionInfo": {
     "elapsed": 71,
     "status": "ok",
     "timestamp": 1741604310062,
     "user": {
      "displayName": "Aleksnadra Błaszczyk",
      "userId": "07284417482966822827"
     },
     "user_tz": -60
    },
    "id": "0tIfAdUTjSkQ",
    "outputId": "c57553c0-cc32-41c1-a2de-da972956f7d2"
   },
   "outputs": [
    {
     "data": {
      "text/plain": [
       "(DataFrame[words_tfidf: vector, indexed_label: double],\n",
       " DataFrame[words_tfidf: vector, indexed_label: double])"
      ]
     },
     "execution_count": 146,
     "metadata": {},
     "output_type": "execute_result"
    }
   ],
   "source": [
    "# Data are already splitted for the previous moodel: (trainingData, testData)"
   ]
  },
  {
   "cell_type": "code",
   "execution_count": null,
   "metadata": {
    "id": "oQvtGdpOCbI2"
   },
   "outputs": [],
   "source": [
    "# Define Model\n",
    "rf = RandomForestClassifier(featuresCol='words_tfidf', labelCol=\"indexed_label\")\n",
    "\n",
    "# Hyperparameter Grid\n",
    "paramGrid = ParamGridBuilder() \\\n",
    "    .addGrid(rf.numTrees, [10, 20]) \\\n",
    "    .addGrid(rf.maxDepth, [5, 10]) \\\n",
    "    .build()\n",
    "\n",
    "# Define Evaluator (F1-Score)\n",
    "evaluator_f1 = MulticlassClassificationEvaluator(labelCol=\"indexed_label\", metricName=\"f1\")\n",
    "\n",
    "\n",
    "#  Seting Up Cross-Validation\n",
    "cv = CrossValidator(\n",
    "    estimator=rf,\n",
    "    estimatorParamMaps=paramGrid,\n",
    "    evaluator=evaluator_f1,\n",
    "    numFolds=3  # 3-Fold Cross Validation, for more optimized calculations\n",
    ")\n",
    "\n",
    "# Train with Cross-Validation\n",
    "cv_model_rf = cv.fit(trainingData)\n",
    "\n",
    "# Generate predictions\n",
    "test_predictions = cv_model_rf.transform(testData)\n"
   ]
  },
  {
   "cell_type": "code",
   "execution_count": 203,
   "metadata": {
    "colab": {
     "base_uri": "https://localhost:8080/"
    },
    "executionInfo": {
     "elapsed": 18858,
     "status": "ok",
     "timestamp": 1741632760297,
     "user": {
      "displayName": "Aleksnadra Błaszczyk",
      "userId": "07284417482966822827"
     },
     "user_tz": -60
    },
    "id": "W9L7IqbNZkz1",
    "outputId": "891c6544-97da-4c17-fdac-6025a21c1a0e"
   },
   "outputs": [
    {
     "name": "stdout",
     "output_type": "stream",
     "text": [
      "Final Test F1-Score: 0.3959\n"
     ]
    }
   ],
   "source": [
    "# Evaluate with F1 scores\n",
    "f1_score = evaluator_f1.evaluate(test_predictions)\n",
    "print(f\"Final Test F1-Score: {f1_score:.4f}\")"
   ]
  },
  {
   "cell_type": "code",
   "execution_count": 204,
   "metadata": {
    "colab": {
     "base_uri": "https://localhost:8080/"
    },
    "executionInfo": {
     "elapsed": 7,
     "status": "ok",
     "timestamp": 1741632801047,
     "user": {
      "displayName": "Aleksnadra Błaszczyk",
      "userId": "07284417482966822827"
     },
     "user_tz": -60
    },
    "id": "rqq9x2TKDNs-",
    "outputId": "1f290328-6dc2-472b-964d-9d6be5000c7b"
   },
   "outputs": [
    {
     "name": "stdout",
     "output_type": "stream",
     "text": [
      "Best Parameters:\n",
      " - Num Trees: 10\n",
      " - Max Depth: <bound method _DecisionTreeParams.getMaxDepth of RandomForestClassificationModel: uid=RandomForestClassifier_079e66637fed, numTrees=10, numClasses=4, numFeatures=38174>\n"
     ]
    }
   ],
   "source": [
    "#  Best Model Parameters\n",
    "best_model = cv_model_rf.bestModel\n",
    "print(\"Best Parameters:\")\n",
    "print(f\" - Num Trees: {best_model.getNumTrees}\")\n",
    "print(f\" - Max Depth: {best_model.getMaxDepth}\")\n"
   ]
  },
  {
   "cell_type": "markdown",
   "metadata": {
    "id": "etdGnjgDOOXS"
   },
   "source": [
    "Save Model to disk"
   ]
  },
  {
   "cell_type": "code",
   "execution_count": 151,
   "metadata": {
    "executionInfo": {
     "elapsed": 509,
     "status": "ok",
     "timestamp": 1741627922012,
     "user": {
      "displayName": "Aleksnadra Błaszczyk",
      "userId": "07284417482966822827"
     },
     "user_tz": -60
    },
    "id": "lSViMZ28Cfhk"
   },
   "outputs": [],
   "source": [
    "import shutil\n",
    "import os\n",
    "# Check if the directory exists, and remove it if needed\n",
    "if os.path.exists(\"/content/drive/MyDrive/Colab Notebooks/model_randomForest_1\"):\n",
    "    shutil.rmtree(\"/content/drive/MyDrive/Colab Notebooks/model_randomForest_1\")"
   ]
  },
  {
   "cell_type": "code",
   "execution_count": 152,
   "metadata": {
    "executionInfo": {
     "elapsed": 2127,
     "status": "ok",
     "timestamp": 1741627927531,
     "user": {
      "displayName": "Aleksnadra Błaszczyk",
      "userId": "07284417482966822827"
     },
     "user_tz": -60
    },
    "id": "WbJ_xV2tCk4P"
   },
   "outputs": [],
   "source": [
    "# save model to disk\n",
    "best_model.write().overwrite().save(\"/content/drive/MyDrive/Colab Notebooks/model_randomForest_1/\")"
   ]
  },
  {
   "cell_type": "markdown",
   "metadata": {
    "id": "D7JWSsOPOmVY"
   },
   "source": [
    "## 3.3 Select Model"
   ]
  },
  {
   "cell_type": "code",
   "execution_count": 182,
   "metadata": {
    "colab": {
     "base_uri": "https://localhost:8080/"
    },
    "executionInfo": {
     "elapsed": 4060,
     "status": "ok",
     "timestamp": 1741630679735,
     "user": {
      "displayName": "Aleksnadra Błaszczyk",
      "userId": "07284417482966822827"
     },
     "user_tz": -60
    },
    "id": "BlBIW2NGOsWS",
    "outputId": "5acc8889-faf8-4aba-9d3f-de13c19d08ad"
   },
   "outputs": [
    {
     "name": "stdout",
     "output_type": "stream",
     "text": [
      "+----------------------+---------+------+------------------+\n",
      "|Machine_Learning_Model|Precision|Recall|          F1_Score|\n",
      "+----------------------+---------+------+------------------+\n",
      "|           Naive Bayes|   0.9293|0.9288|0.9289000034332275|\n",
      "+----------------------+---------+------+------------------+\n",
      "\n"
     ]
    }
   ],
   "source": [
    "evaluation_metrics_df.show()\n",
    "\n",
    "# extend table with evaluation metrics with random forest metrics\n",
    "new_row = spark.createDataFrame([\n",
    "    Row(Machine_Learning_Model=\"Random Forest\", Precision='', Recall='', F1_Score=0.3959)\n",
    "])"
   ]
  },
  {
   "cell_type": "code",
   "execution_count": 181,
   "metadata": {
    "executionInfo": {
     "elapsed": 53,
     "status": "ok",
     "timestamp": 1741630673411,
     "user": {
      "displayName": "Aleksnadra Błaszczyk",
      "userId": "07284417482966822827"
     },
     "user_tz": -60
    },
    "id": "oUJPGZsSRkn3"
   },
   "outputs": [],
   "source": [
    "evaluation_metrics_df = evaluation_metrics_df.filter(evaluation_metrics_df[\"Machine_Learning_Model\"] == \"Naive Bayes\")"
   ]
  },
  {
   "cell_type": "code",
   "execution_count": 183,
   "metadata": {
    "colab": {
     "base_uri": "https://localhost:8080/"
    },
    "executionInfo": {
     "elapsed": 5182,
     "status": "ok",
     "timestamp": 1741630685672,
     "user": {
      "displayName": "Aleksnadra Błaszczyk",
      "userId": "07284417482966822827"
     },
     "user_tz": -60
    },
    "id": "WkcKJUeIQSqP",
    "outputId": "477d4e75-943f-4106-d18c-ed2d82208ec8"
   },
   "outputs": [
    {
     "name": "stdout",
     "output_type": "stream",
     "text": [
      "+----------------------+---------+------+------------------+\n",
      "|Machine_Learning_Model|Precision|Recall|          F1_Score|\n",
      "+----------------------+---------+------+------------------+\n",
      "|           Naive Bayes|   0.9293|0.9288|0.9289000034332275|\n",
      "|         Random Forest|         |      |            0.3959|\n",
      "+----------------------+---------+------+------------------+\n",
      "\n"
     ]
    }
   ],
   "source": [
    "evaluation_metrics_df = evaluation_metrics_df.unionByName(new_row)\n",
    "evaluation_metrics_df.show()"
   ]
  },
  {
   "cell_type": "markdown",
   "metadata": {
    "id": "REz-PwjBaSDC"
   },
   "source": [
    "Naive Bayes is clearly outperforming Random Forest in terms of F1-Score metrics. Therefore, **Naive Bayes** will be used for New Agregator task"
   ]
  },
  {
   "cell_type": "markdown",
   "metadata": {
    "id": "zNKpFn-4SfHo"
   },
   "source": [
    "# 4.0 Prediction on a New Text\n"
   ]
  },
  {
   "cell_type": "code",
   "execution_count": 187,
   "metadata": {
    "executionInfo": {
     "elapsed": 3831,
     "status": "ok",
     "timestamp": 1741631159494,
     "user": {
      "displayName": "Aleksnadra Błaszczyk",
      "userId": "07284417482966822827"
     },
     "user_tz": -60
    },
    "id": "QrX5SVj4S9Z4"
   },
   "outputs": [],
   "source": [
    "# Load previously trained on training dataset Pipeline model and Classification model from disk\n",
    "\n",
    "# PIPELINE\n",
    "model_path_pipeline = \"/content/drive/MyDrive/Colab Notebooks/pipeline_model2\"\n",
    "# Load the pipeline model\n",
    "loaded_pipeline_model = PipelineModel.load(model_save_path_pipeline)\n",
    "\n",
    "#NB\n",
    "# src to Naive Bayes model\n",
    "model_path_nb = \"/content/drive/MyDrive/Colab Notebooks/naive_bayesian_final\"\n",
    "# Load the saved model\n",
    "nb_loaded_model = NaiveBayesModel.load(model_save_path_nb )\n",
    "\n"
   ]
  },
  {
   "cell_type": "code",
   "execution_count": 189,
   "metadata": {
    "executionInfo": {
     "elapsed": 73,
     "status": "ok",
     "timestamp": 1741631336183,
     "user": {
      "displayName": "Aleksnadra Błaszczyk",
      "userId": "07284417482966822827"
     },
     "user_tz": -60
    },
    "id": "l-JdtYYAS9Qo"
   },
   "outputs": [],
   "source": [
    "# Exemplary News Titles\n",
    "data = [\n",
    "    Row(\"Tech Stocks Surge as Investors Bet on Future Growth\"),\n",
    "    Row(\"Hollywood Blockbuster Tops the Box Office in Opening Weekend\"),\n",
    "    Row(\"New Study Reveals the Impact of Meditation on Mental Health\"),\n",
    "    Row(\"Scientists discover new species of dinosaur in Argentina\")\n",
    "]\n",
    "\n",
    "# create Spark Data Frame - which is necessary format to futher processing and model inferencing\n",
    "example_df = spark.createDataFrame(data, [\"TITLE\"])"
   ]
  },
  {
   "cell_type": "code",
   "execution_count": 191,
   "metadata": {
    "executionInfo": {
     "elapsed": 4,
     "status": "ok",
     "timestamp": 1741631373451,
     "user": {
      "displayName": "Aleksnadra Błaszczyk",
      "userId": "07284417482966822827"
     },
     "user_tz": -60
    },
    "id": "W_nk5luHUIG4"
   },
   "outputs": [],
   "source": [
    "# previously described function, needed for cleaning text from non words characters and lowercasing\n",
    "def preprocess_title_column(df, input_col=\"TITLE\", output_col=\"title_only_str\"):\n",
    "    return df.withColumn(output_col, lower(regexp_replace(col(input_col), r'[^\\w\\s]|[0-9]+', '')))"
   ]
  },
  {
   "cell_type": "code",
   "execution_count": 192,
   "metadata": {
    "colab": {
     "base_uri": "https://localhost:8080/"
    },
    "executionInfo": {
     "elapsed": 3082,
     "status": "ok",
     "timestamp": 1741631408445,
     "user": {
      "displayName": "Aleksnadra Błaszczyk",
      "userId": "07284417482966822827"
     },
     "user_tz": -60
    },
    "id": "odFAuf3_UTSn",
    "outputId": "5b6178f4-1c87-440c-c661-9e72af2e613c"
   },
   "outputs": [
    {
     "name": "stdout",
     "output_type": "stream",
     "text": [
      "+------------------------------------------------------------+------------------------------------------------------------+----------------------------------------------------------------------+-------------------------------------------------------------+-------------------------------------------------------------------+----------------------------------------------------------------------------------------------------------------------------------------------------------------------+\n",
      "|TITLE                                                       |title_only_str                                              |title_words                                                           |title_clean_words                                            |words_vectorized                                                   |words_tfidf                                                                                                                                                           |\n",
      "+------------------------------------------------------------+------------------------------------------------------------+----------------------------------------------------------------------+-------------------------------------------------------------+-------------------------------------------------------------------+----------------------------------------------------------------------------------------------------------------------------------------------------------------------+\n",
      "|Tech Stocks Surge as Investors Bet on Future Growth         |tech stocks surge as investors bet on future growth         |[tech, stocks, surge, as, investors, bet, on, future, growth]         |[tech, stocks, surge, investors, bet, future, growth]        |(38174,[27,102,124,193,474,531,1046],[1.0,1.0,1.0,1.0,1.0,1.0,1.0])|(38174,[27,102,124,193,474,531,1046],[4.516809611164697,5.109935177998998,5.205206188966045,5.466666080081054,6.022511703667973,6.103774667746739,6.61460029151273])  |\n",
      "|Hollywood Blockbuster Tops the Box Office in Opening Weekend|hollywood blockbuster tops the box office in opening weekend|[hollywood, blockbuster, tops, the, box, office, in, opening, weekend]|[hollywood, blockbuster, tops, box, office, opening, weekend]|(38174,[59,131,240,494,549,902,3689],[1.0,1.0,1.0,1.0,1.0,1.0,1.0])|(38174,[59,131,240,494,549,902,3689],[4.863944553529951,5.2393900607202735,5.603801368809789,6.051212337655883,6.1393196051661505,6.49976103190036,7.971352973532145])|\n",
      "|New Study Reveals the Impact of Meditation on Mental Health |new study reveals the impact of meditation on mental health |[new, study, reveals, the, impact, of, meditation, on, mental, health]|[new, study, reveals, impact, meditation, mental, health]    |(38174,[0,29,33,128,1161,1294,7971],[1.0,1.0,1.0,1.0,1.0,1.0,1.0]) |(38174,[0,29,33,128,1161,1294,7971],[2.874581875907606,4.517459172733493,4.6156976123169065,5.222590372956094,6.72054886952211,6.825909385179937,9.126318198751386])  |\n",
      "|Scientists discover new species of dinosaur in Argentina    |scientists discover new species of dinosaur in argentina    |[scientists, discover, new, species, of, dinosaur, in, argentina]     |[scientists, discover, new, species, dinosaur, argentina]    |(38174,[0,299,995,1417,1793,2151],[1.0,1.0,1.0,1.0,1.0,1.0])       |(38174,[0,299,995,1417,1793,2151],[2.874581875907606,5.72006117492565,6.571452960356476,6.8981755820118575,7.137848435277277,7.338188497573911])                      |\n",
      "+------------------------------------------------------------+------------------------------------------------------------+----------------------------------------------------------------------+-------------------------------------------------------------+-------------------------------------------------------------------+----------------------------------------------------------------------------------------------------------------------------------------------------------------------+\n",
      "\n"
     ]
    }
   ],
   "source": [
    "preprocessed_dataset=preprocess_title_column(example_df)\n",
    "# Apply the loaded model- PIPELINE -  to new data\n",
    "loaded_transformed_df = loaded_pipeline_model.transform(preprocessed_dataset)\n",
    "loaded_transformed_df.show(truncate=False)"
   ]
  },
  {
   "cell_type": "code",
   "execution_count": 193,
   "metadata": {
    "colab": {
     "base_uri": "https://localhost:8080/"
    },
    "executionInfo": {
     "elapsed": 2187,
     "status": "ok",
     "timestamp": 1741631454156,
     "user": {
      "displayName": "Aleksnadra Błaszczyk",
      "userId": "07284417482966822827"
     },
     "user_tz": -60
    },
    "id": "UdQBlWylUjwG",
    "outputId": "a45d5cf3-0cbb-48db-95cb-a9294d4ae6f6"
   },
   "outputs": [
    {
     "name": "stdout",
     "output_type": "stream",
     "text": [
      "+------------------------------------------------------------+----------+\n",
      "|TITLE                                                       |prediction|\n",
      "+------------------------------------------------------------+----------+\n",
      "|Tech Stocks Surge as Investors Bet on Future Growth         |1.0       |\n",
      "|Hollywood Blockbuster Tops the Box Office in Opening Weekend|0.0       |\n",
      "|New Study Reveals the Impact of Meditation on Mental Health |3.0       |\n",
      "|Scientists discover new species of dinosaur in Argentina    |2.0       |\n",
      "+------------------------------------------------------------+----------+\n",
      "\n"
     ]
    }
   ],
   "source": [
    "predictions = nb_loaded_model.transform(loaded_transformed_df)\n",
    "predictions.select(\"TITLE\", \"prediction\").show(truncate=False)"
   ]
  },
  {
   "cell_type": "code",
   "execution_count": 198,
   "metadata": {
    "executionInfo": {
     "elapsed": 5,
     "status": "ok",
     "timestamp": 1741632058708,
     "user": {
      "displayName": "Aleksnadra Błaszczyk",
      "userId": "07284417482966822827"
     },
     "user_tz": -60
    },
    "id": "ZfRhxNOtUvJM"
   },
   "outputs": [],
   "source": [
    "\n",
    "prediction_to_category = {\n",
    "    0:  \"Entertainement\",\n",
    "    1:  \"Business\",\n",
    "    2:  \"Technology\",\n",
    "    3:  \"Health\"\n",
    "}\n",
    "\n",
    "# Convert dictionary into a PySpark Map column\n",
    "mapping_expr = create_map([lit(x) for pair in prediction_to_category.items() for x in pair])\n"
   ]
  },
  {
   "cell_type": "code",
   "execution_count": 199,
   "metadata": {
    "executionInfo": {
     "elapsed": 7,
     "status": "ok",
     "timestamp": 1741632059740,
     "user": {
      "displayName": "Aleksnadra Błaszczyk",
      "userId": "07284417482966822827"
     },
     "user_tz": -60
    },
    "id": "E0KnPsshVpZt"
   },
   "outputs": [],
   "source": [
    " # Apply the mapping to create a new category column\n",
    "predictions = predictions.withColumn(\"category\", mapping_expr[predictions[\"prediction\"]])\n"
   ]
  },
  {
   "cell_type": "code",
   "execution_count": 202,
   "metadata": {
    "colab": {
     "base_uri": "https://localhost:8080/"
    },
    "executionInfo": {
     "elapsed": 3380,
     "status": "ok",
     "timestamp": 1741632215163,
     "user": {
      "displayName": "Aleksnadra Błaszczyk",
      "userId": "07284417482966822827"
     },
     "user_tz": -60
    },
    "id": "qpUXFStSW9Ti",
    "outputId": "23d3a97e-33b2-463e-838a-9a3508cef9cd"
   },
   "outputs": [
    {
     "name": "stdout",
     "output_type": "stream",
     "text": [
      "+------------------------------------------------------------+----------+--------------+\n",
      "|TITLE                                                       |prediction|category      |\n",
      "+------------------------------------------------------------+----------+--------------+\n",
      "|Tech Stocks Surge as Investors Bet on Future Growth         |1.0       |Business      |\n",
      "|Hollywood Blockbuster Tops the Box Office in Opening Weekend|0.0       |Entertainement|\n",
      "|New Study Reveals the Impact of Meditation on Mental Health |3.0       |Health        |\n",
      "|Scientists discover new species of dinosaur in Argentina    |2.0       |Technology    |\n",
      "+------------------------------------------------------------+----------+--------------+\n",
      "\n"
     ]
    }
   ],
   "source": [
    "predictions.select(\"TITLE\", \"prediction\", 'category').show(truncate=False)"
   ]
  }
 ],
 "metadata": {
  "colab": {
   "provenance": [],
   "toc_visible": true
  },
  "kernelspec": {
   "display_name": "my_venv",
   "language": "python",
   "name": "python3"
  },
  "language_info": {
   "codemirror_mode": {
    "name": "ipython",
    "version": 3
   },
   "file_extension": ".py",
   "mimetype": "text/x-python",
   "name": "python",
   "nbconvert_exporter": "python",
   "pygments_lexer": "ipython3",
   "version": "3.8.10"
  }
 },
 "nbformat": 4,
 "nbformat_minor": 0
}
